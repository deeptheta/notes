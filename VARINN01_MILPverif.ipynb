{
 "cells": [
  {
   "cell_type": "code",
   "execution_count": 2,
   "metadata": {},
   "outputs": [
    {
     "name": "stdout",
     "output_type": "stream",
     "text": [
      "CVXPY version:  1.0.21\n",
      "CVXPY solvers:  ['ECOS', 'ECOS_BB', 'CVXOPT', 'GLPK', 'XPRESS', 'GLPK_MI', 'CBC', 'SCS', 'GUROBI', 'OSQP', 'GUROBI']\n"
     ]
    }
   ],
   "source": [
    "%config IPCompleter.greedy=True\n",
    "import cvxpy as cp\n",
    "import numpy as np\n",
    "import pandas as pd\n",
    "import tensorflow as tf\n",
    "from tensorflow.keras.preprocessing.image import ImageDataGenerator\n",
    "from tensorflow.keras.preprocessing import image\n",
    "import PIL.Image\n",
    "import time\n",
    "print('CVXPY version: ', cp.__version__)\n",
    "print('CVXPY solvers: ', cp.installed_solvers())"
   ]
  },
  {
   "cell_type": "code",
   "execution_count": 3,
   "metadata": {},
   "outputs": [
    {
     "name": "stdout",
     "output_type": "stream",
     "text": [
      "WARNING:tensorflow:From C:\\Users\\admin\\.conda\\envs\\dnncvx\\lib\\site-packages\\tensorflow\\python\\ops\\resource_variable_ops.py:435: colocate_with (from tensorflow.python.framework.ops) is deprecated and will be removed in a future version.\n",
      "Instructions for updating:\n",
      "Colocations handled automatically by placer.\n",
      "WARNING:tensorflow:From C:\\Users\\admin\\.conda\\envs\\dnncvx\\lib\\site-packages\\tensorflow\\python\\keras\\layers\\core.py:143: calling dropout (from tensorflow.python.ops.nn_ops) with keep_prob is deprecated and will be removed in a future version.\n",
      "Instructions for updating:\n",
      "Please use `rate` instead of `keep_prob`. Rate should be set to `rate = 1 - keep_prob`.\n"
     ]
    }
   ],
   "source": [
    "# load pretrained model   \n",
    "model = tf.keras.models.load_model('gtsrb_01_model.h5')"
   ]
  },
  {
   "cell_type": "code",
   "execution_count": 4,
   "metadata": {},
   "outputs": [],
   "source": [
    "NOF_CLASSES = 43\n",
    "LAYER_LEN = [4800, 512, NOF_CLASSES]\n",
    "IMG_SHAPE = (40, 40, 3)\n",
    "MARGIN = 5"
   ]
  },
  {
   "cell_type": "code",
   "execution_count": 5,
   "metadata": {},
   "outputs": [
    {
     "name": "stdout",
     "output_type": "stream",
     "text": [
      "resulting bw[1]: (4801, 512)\n",
      "resulting bw[2]: (513, 43)\n"
     ]
    }
   ],
   "source": [
    "bw = [None, np.zeros((LAYER_LEN[0]+1,LAYER_LEN[1])), np.zeros((LAYER_LEN[1]+1,LAYER_LEN[2]))]  # \"biased weights\"\n",
    "for i, layer in enumerate(model.layers):\n",
    "    weights = layer.get_weights()  # list of numpy arrays\n",
    "#     print(f'keras layer[{i}] {layer.name} weights nparrays: {len(weights)}')\n",
    "    if i in [1, 3]:\n",
    "        icorr = i//2 + 1\n",
    "#         print(f'layer{icorr} weights: {weights[0].shape} and {weights[1].shape}')\n",
    "        bw[icorr] = np.vstack((weights[0], weights[1]))\n",
    "        print(f'resulting bw[{icorr}]: {bw[icorr].shape}')"
   ]
  },
  {
   "cell_type": "code",
   "execution_count": 6,
   "metadata": {},
   "outputs": [],
   "source": [
    "# SPECIFICATIONS: rule names, input subsets and expected output classes\n",
    "NOF_PX = (IMG_SHAPE[0]-2*MARGIN) * (IMG_SHAPE[1]-2*MARGIN)  # 900 by default\n",
    "\n",
    "specification_names = {\n",
    "    'l_r':  'Linear Redness Score          ',\n",
    "    'l_g':  'Linear Greenness Score        ',\n",
    "    'l_b':  'Linear Blueness Score         ',\n",
    "    'l_y':  'Linear Yellowness Score       ',\n",
    "    'l_m':  'Linear Magentaness Score      ',\n",
    "    'l_c':  'Linear Cyanness Score         ',\n",
    "    'l_dr': 'Linear Dark Redness Score     ',\n",
    "    'l_dg': 'Linear Dark Greenness Score   ',\n",
    "    'l_db': 'Linear Dark Blueness Score    ',\n",
    "    'l_ly': 'Linear Light Yellowness Score ',\n",
    "    'l_lm': 'Linear Light Magentaness Score',\n",
    "    'l_lc': 'Linear Light Cyanness Score   ',\n",
    "    'l_rg': 'Linear Red-Greenness Score    ',\n",
    "    'l_rb': 'Linear Red-Blueness Score     ',\n",
    "    'l_gb': 'Linear Green-Blueness Score   ',\n",
    "    'l_in': 'Linear Intensity Score        '\n",
    "}\n",
    "\n",
    "specified_input = {\n",
    "    'l_r':  lambda r,g,b: (1/2 + cp.sum(2*r-g-b)/(255*NOF_PX*4)) <= 0.4398, # 0.4398,\n",
    "    'l_g':  lambda r,g,b: (1/2 + cp.sum(2*g-r-b)/(255*NOF_PX*4)) <= 0.4721, # 0.4721,\n",
    "    'l_b':  lambda r,g,b: (1/2 + cp.sum(2*b-r-g)/(255*NOF_PX*4)) >= 0.5715,\n",
    "    'l_y':  lambda r,g,b: (1/2 + cp.sum(r+g-2*b)/(255*NOF_PX*4)) <= 0.4323,\n",
    "    'l_m':  lambda r,g,b: (1/2 + cp.sum(r+b-2*g)/(255*NOF_PX*4)) <= 0.5001,\n",
    "    'l_c':  lambda r,g,b: (1/2 + cp.sum(g+b-2*r)/(255*NOF_PX*4)) >= 0.5438,\n",
    "    'l_dr': lambda r,g,b: (1 + cp.sum(-g-b)/(255*NOF_PX*2))      >= 0.9261,\n",
    "    'l_dg': lambda r,g,b: (1 + cp.sum(-r-b)/(255*NOF_PX*2))      >= 0.9243,\n",
    "    'l_db': lambda r,g,b: (1 + cp.sum(-r-g)/(255*NOF_PX*2))      >= 0.9274,\n",
    "    'l_ly': lambda r,g,b: (cp.sum(r+g)/(255*NOF_PX*2))           <= 0.0658,\n",
    "    'l_lm': lambda r,g,b: (cp.sum(r+b)/(255*NOF_PX*2))           <= 0.0757,\n",
    "    'l_lc': lambda r,g,b: (cp.sum(g+b)/(255*NOF_PX*2))           <= 0.0804,\n",
    "    'l_rg': lambda r,g,b: (1 - cp.sum(b)/(255*NOF_PX))           >= 0.9177,\n",
    "    'l_rb': lambda r,g,b: (1 - cp.sum(g)/(255*NOF_PX))           >= 0.9339,\n",
    "    'l_gb': lambda r,g,b: (1 - cp.sum(r)/(255*NOF_PX))           >= 0.9295,\n",
    "    'l_in': lambda r,g,b: (cp.sum(r+g+b)/(255*NOF_PX*3))         <= 0.0713\n",
    "}\n",
    "\n",
    "expected_outs = {\n",
    "    'l_r':  range(33, 41),\n",
    "    'l_g':  [c for c in range(NOF_CLASSES) if c not in [32, 19, 20, 37, 6, 41, 42, 12, 31]],\n",
    "    'l_b':  range(33, 42),\n",
    "    'l_y':  range(33, 42),\n",
    "    'l_m':  [c for c in range(NOF_CLASSES) if c not in [0, 33, 5, 8, 9, 10, 14, 15, 17, 19, 24, 27, 29, 30]],\n",
    "    'l_c':  [c for c in range(NOF_CLASSES) if c not in [0, 1, 2, 3, 4, 5, 7, 8, 9, 10, 11, 14, 15, 17, 18, 19, 20, 21, 22, 23, 24, 25, 26, 27, 28, 29, 30, 31, 32, 42]],\n",
    "    'l_dr': [c for c in range(NOF_CLASSES) if c not in [0, 32, 2, 34, 35, 36, 37, 6, 40, 41, 42, 14, 15, 16, 20, 21, 22, 24, 27, 28, 29]],\n",
    "    'l_dg': [c for c in range(NOF_CLASSES) if c not in [0, 32, 2, 34, 35, 36, 37, 40, 41, 42, 11, 14, 15, 16, 20, 21, 22, 24, 27, 28, 29, 30]],\n",
    "    'l_db': [c for c in range(NOF_CLASSES) if c not in [0, 32, 2, 34, 36, 37, 40, 41, 11, 14, 15, 21, 22, 24, 27, 28, 29]],\n",
    "    'l_ly': [c for c in range(NOF_CLASSES) if c not in [0, 32, 1, 2, 34, 36, 37, 6, 40, 41, 42, 11, 14, 15, 16, 20, 21, 22, 24, 27, 28, 29, 30]],\n",
    "    'l_lm': [c for c in range(NOF_CLASSES) if c not in [0, 32, 2, 34, 35, 36, 37, 6, 40, 41, 42, 11, 14, 15, 16, 20, 21, 22, 24, 27, 28, 29, 30]],\n",
    "    'l_lc': [c for c in range(NOF_CLASSES) if c not in [0, 32, 2, 34, 35, 36, 37, 40, 41, 42, 14, 15, 21, 22, 24, 27, 28, 29]],\n",
    "    'l_rg': [c for c in range(NOF_CLASSES) if c not in [0, 32, 2, 34, 35, 36, 37, 6, 39, 40, 41, 42, 14, 15, 20, 21, 22, 24, 27, 28, 29, 30]],\n",
    "    'l_rb': [c for c in range(NOF_CLASSES) if c not in [0, 32, 2, 34, 36, 37, 6, 40, 41, 42, 11, 14, 15, 16, 21, 22, 24, 27, 28, 29]],\n",
    "    'l_gb': [c for c in range(NOF_CLASSES) if c not in [0, 32, 1, 2, 34, 36, 37, 40, 41, 11, 14, 15, 16, 21, 22, 24, 27, 28, 29]],\n",
    "    'l_in': [c for c in range(NOF_CLASSES) if c not in [0, 32, 2, 34, 35, 36, 37, 6, 40, 41, 42, 11, 14, 15, 16, 20, 21, 22, 24, 27, 28, 29, 30]]\n",
    "}\n",
    "\n",
    "specifications = list(zip(specification_names.values(), specified_input.values(), expected_outs.values()))"
   ]
  },
  {
   "cell_type": "code",
   "execution_count": 9,
   "metadata": {},
   "outputs": [],
   "source": [
    "class VerifGTSRB01:\n",
    "    \n",
    "    def __init__(self, biased_weights, layer_lengths, img_shape=(40,40,3), margin=5):\n",
    "        self.bw = biased_weights\n",
    "        self.layer_lengths = layer_lengths\n",
    "        self.nof_classes = layer_lengths[-1]\n",
    "        # indices of red channels of inner pixels\n",
    "        self.ridx = np.array([120*i+3*j for i in range(margin, img_shape[0]-margin) for j in range(margin, img_shape[1]-margin)])\n",
    "        self._init()\n",
    "        \n",
    "    def _init(self, nof_adv_outclasses=1):\n",
    "        self.l0a = cp.Variable(self.layer_lengths[0], integer=True)\n",
    "        self.l1z = cp.Variable(self.layer_lengths[1])\n",
    "        self.l1s = cp.Variable(self.layer_lengths[1], boolean=True)  # is ReLU active? (in the positive regime)\n",
    "        self.l1a = cp.Variable(self.layer_lengths[1])\n",
    "        self.l2z = cp.Variable(self.layer_lengths[2])        \n",
    "        self.hmx = cp.Variable(nof_adv_outclasses, boolean=True)  # is hardmax active for class hmx[k] out of K expected? NOTE DIFFERENT NUMBERING!\n",
    "        self.constraints = []\n",
    "        self.problem = None\n",
    "        # input features for specification\n",
    "        self.r = self.l0a[self.ridx]    # red intensities within margin\n",
    "        self.g = self.l0a[self.ridx+1]  # green intensities within margin\n",
    "        self.b = self.l0a[self.ridx+2]  # blue intensities within margin\n",
    "\n",
    "    def verify(self, specification, BIG_M1=100000, BIG_M2=100000, solver=cp.GUROBI, verbose=False):  # GLPK_MI, CBC, XPRESS, GUROBI\n",
    "        specifn_name, specified_in, expected_out = specification\n",
    "        adv_out = [c for c in range(self.nof_classes) if c not in expected_out]  # ADVERSARIAL output must fall into one of these\n",
    "        \n",
    "        # INIT vars & constraints\n",
    "        self._init(len(adv_out))\n",
    "        \n",
    "        # ADD CONSTRAINTS\n",
    "        L = 0\n",
    "        for i in range(self.layer_lengths[L]):\n",
    "            self.constraints.append(self.l0a[i] >= 0)\n",
    "            self.constraints.append(self.l0a[i] <= 255)\n",
    "        L = 1\n",
    "        for i in range(self.layer_lengths[L]):\n",
    "            _dendrites = self.l0a * self.bw[L][:-1, i]\n",
    "            _bias = self.bw[L][-1, i]\n",
    "            self.constraints.append(self.l1z[i] == cp.sum(_dendrites) + _bias)\n",
    "            self.constraints.append(self.l1a[i] >= 0)\n",
    "            self.constraints.append(self.l1a[i] >= self.l1z[i])\n",
    "            self.constraints.append(self.l1a[i] <= BIG_M1*self.l1s[i])\n",
    "            self.constraints.append(self.l1a[i] <= self.l1z[i] + BIG_M1*(1-self.l1s[i]))\n",
    "        L = 2\n",
    "        for i in range(self.layer_lengths[L]):\n",
    "            _dendrites = self.l1a * self.bw[L][:-1, i]\n",
    "            _bias = self.bw[L][-1, i]\n",
    "            self.constraints.append(self.l2z[i] == cp.sum(_dendrites) + _bias)\n",
    "\n",
    "        # SPECIFICATION CONSTRAINTS\n",
    "        # specified input\n",
    "        self.constraints.append(specified_in(self.r, self.g, self.b))\n",
    "        # specified output        \n",
    "        self.constraints.append(cp.sum(self.hmx) == 1)  # hardmax selects exactly one\n",
    "        for k, i in enumerate(adv_out):\n",
    "            for j in range(self.layer_lengths[2]):\n",
    "                if i!=j:\n",
    "                    _d = self.l2z[i] - self.l2z[j]\n",
    "                    self.constraints.append(_d >= -BIG_M2 * (1-self.hmx[k]))  # the selected max must have all differences >= 0\n",
    "\n",
    "        # OBJECTIVE & PROBLEM\n",
    "        self.prob = cp.Problem(cp.Minimize(1), self.constraints)\n",
    "\n",
    "        # SOLVE\n",
    "        start = time.time()\n",
    "        self.prob.solve(solver=solver, verbose=verbose)\n",
    "        end = time.time()\n",
    "\n",
    "        print()\n",
    "        print(f'Run time: ', end - start)\n",
    "        print(f'{specifn_name} Rule falsified: {self.prob.status==\"optimal\"}'\\\n",
    "            + f'\\t Numerical stability: {self.checkWarrantedAdversarial() and self.checkUnsquashedAdversarial(BIG_M1, BIG_M2)}')\n",
    "        img_arr = np.reshape(self.l0a.value, IMG_SHAPE).astype(np.uint8)\n",
    "        im = PIL.Image.fromarray(img_arr)\n",
    "        display(im)\n",
    "        im.save(f'falsifiers/{specifn_name.replace(\" \", \"\")}.png')\n",
    "              \n",
    "    # integrality checks: the solvers may find unwarranted \"adversarials\" bc of tolerance\n",
    "    # if no sol found: great! that means there are neither warranted nor unwarranted adversarials ==> VERIFIED.\n",
    "    # if sol found and integral: it is a warranted adversarial ==> FALSIFIED.\n",
    "    # if sol found but not integral: unwarranted adversarial: a real adversarial may still be out there\n",
    "    #   ==> tighten BIG_M or tolerance or try other solver\n",
    "    # see: http://www.gurobi.com/documentation/8.1/refman/numerics_dealing_with_big_.html\n",
    "    def checkWarrantedAdversarial(self):\n",
    "        if self.prob.status == 'optimal':\n",
    "            if np.flatnonzero(self.l0a.value%1).size>0:\n",
    "                self.print_nonintegral()\n",
    "                return False\n",
    "            if (self.l1s.value[np.flatnonzero(self.l1s.value)] != 1).any():\n",
    "                self.print_nonintegral()\n",
    "                return False\n",
    "            if (self.hmx.value[np.flatnonzero(self.hmx.value)] != 1).any():\n",
    "                self.print_nonintegral()\n",
    "                return False\n",
    "        return True\n",
    "\n",
    "    # a too tight BIG_M could unnecessarily constrain/alter possible adversarials\n",
    "    # if that is the case, BIG_M must be adjusted regardless of whether a solution has been found or not\n",
    "    def checkUnsquashedAdversarial(self, BIG_M1, BIG_M2):\n",
    "        if np.max(self.l1z.value) > BIG_M1:\n",
    "            print(f'Squashed network at: l1z[{np.argmax(self.l1z.value)}]: {np.max(self.l1z.value)} > BIG_M1 == {BIG_M1}')\n",
    "            return False\n",
    "        if np.max(self.l2z.value)-np.min(self.l2z.value) > BIG_M2:\n",
    "            print(f'Squashed network at: l2zDelta[{np.argmax(self.l2z.value)} vs {np.argmin(self.l2z.value)}]: '\\\n",
    "                + f'{np.max(self.l2z.value)-np.min(self.l2z.value)} > BIG_M2 == {BIG_M2}')\n",
    "            return False\n",
    "        return True\n",
    "\n",
    "    def print_nonintegral(self):\n",
    "        l1s_neitheroff = self.l1s.value!=0\n",
    "        l1s_neitheron = self.l1s.value!=1\n",
    "        hmx_neitheroff = self.hmx.value!=0\n",
    "        hmx_neitheron = self.hmx.value!=1\n",
    "        nbidx_l1s = np.flatnonzero(l1s_neitheroff*l1s_neitheron)\n",
    "        nbidx_hmx = np.flatnonzero(hmx_neitheroff*hmx_neitheron)\n",
    "        niidx_l0a = np.flatnonzero(self.l0a.value%1)\n",
    "        for idx in nbidx_l1s:\n",
    "            print(f'l1s[{idx}]: {self.l1s.value[idx]}')\n",
    "        for idx in nbidx_hmx:\n",
    "            print(f'hmx[{idx}]: {self.hmx.value[idx]}')\n",
    "        for idx in niidx_l0a:\n",
    "            print(f'l0a[{idx}]: {self.l0a.value[idx]}')"
   ]
  },
  {
   "cell_type": "code",
   "execution_count": 10,
   "metadata": {},
   "outputs": [
    {
     "name": "stdout",
     "output_type": "stream",
     "text": [
      "\n",
      "Run time:  20.499059677124023\n",
      "Linear Redness Score           Rule falsified: True\t Numerical stability: True\n"
     ]
    },
    {
     "data": {
      "image/png": "[encoded data removed]",
      "text/plain": [
       "<PIL.Image.Image image mode=RGB size=40x40 at 0x2ED388B9160>"
      ]
     },
     "metadata": {},
     "output_type": "display_data"
    },
    {
     "name": "stdout",
     "output_type": "stream",
     "text": [
      "\n",
      "Run time:  55.80383491516113\n",
      "l1s[47]: 0.9999999033686634\n",
      "l1s[69]: 0.999999220340519\n",
      "l1s[81]: 0.9999998313701818\n",
      "l1s[221]: 0.9999993235656479\n",
      "l1s[257]: 3.181853934112846e-08\n",
      "l1s[446]: 1.832609351099034e-06\n",
      "l1s[448]: 2.7675460098582173e-07\n",
      "l1s[481]: 0.9999993191132256\n",
      "l1s[498]: 0.9999986848205918\n",
      "hmx[0]: 1.8624351728501137e-06\n",
      "hmx[2]: 0.9999981364537496\n",
      "Linear Greenness Score         Rule falsified: True\t Numerical stability: False\n"
     ]
    },
    {
     "data": {
      "image/png": "[encoded data removed]",
      "text/plain": [
       "<PIL.Image.Image image mode=RGB size=40x40 at 0x2ED36DB5940>"
      ]
     },
     "metadata": {},
     "output_type": "display_data"
    },
    {
     "name": "stdout",
     "output_type": "stream",
     "text": [
      "\n",
      "Run time:  20.420052766799927\n",
      "Linear Blueness Score          Rule falsified: True\t Numerical stability: True\n"
     ]
    },
    {
     "data": {
      "image/png": "[encoded data removed]",
      "text/plain": [
       "<PIL.Image.Image image mode=RGB size=40x40 at 0x2ED3925A320>"
      ]
     },
     "metadata": {},
     "output_type": "display_data"
    },
    {
     "name": "stdout",
     "output_type": "stream",
     "text": [
      "\n",
      "Run time:  20.345349073410034\n",
      "Linear Yellowness Score        Rule falsified: True\t Numerical stability: True\n"
     ]
    },
    {
     "data": {
      "image/png": "[encoded data removed]",
      "text/plain": [
       "<PIL.Image.Image image mode=RGB size=40x40 at 0x2ED080E3518>"
      ]
     },
     "metadata": {},
     "output_type": "display_data"
    },
    {
     "name": "stdout",
     "output_type": "stream",
     "text": [
      "\n",
      "Run time:  63.116934299468994\n",
      "Linear Magentaness Score       Rule falsified: True\t Numerical stability: True\n"
     ]
    },
    {
     "data": {
      "image/png": "[encoded data removed]",
      "text/plain": [
       "<PIL.Image.Image image mode=RGB size=40x40 at 0x2ED35D00128>"
      ]
     },
     "metadata": {},
     "output_type": "display_data"
    },
    {
     "name": "stdout",
     "output_type": "stream",
     "text": [
      "\n",
      "Run time:  51.953563928604126\n",
      "Linear Cyanness Score          Rule falsified: True\t Numerical stability: True\n"
     ]
    },
    {
     "data": {
      "image/png": "[encoded data removed]",
      "text/plain": [
       "<PIL.Image.Image image mode=RGB size=40x40 at 0x2ED3672F0F0>"
      ]
     },
     "metadata": {},
     "output_type": "display_data"
    },
    {
     "name": "stdout",
     "output_type": "stream",
     "text": [
      "\n",
      "Run time:  201.729248046875\n",
      "l1s[506]: 2.0532511608618986e-07\n",
      "Linear Dark Redness Score      Rule falsified: True\t Numerical stability: False\n"
     ]
    },
    {
     "data": {
      "image/png": "[encoded data removed]",
      "text/plain": [
       "<PIL.Image.Image image mode=RGB size=40x40 at 0x2ED375460F0>"
      ]
     },
     "metadata": {},
     "output_type": "display_data"
    },
    {
     "name": "stdout",
     "output_type": "stream",
     "text": [
      "\n",
      "Run time:  457.1919345855713\n",
      "Linear Dark Greenness Score    Rule falsified: True\t Numerical stability: True\n"
     ]
    },
    {
     "data": {
      "image/png": "[encoded data removed]",
      "text/plain": [
       "<PIL.Image.Image image mode=RGB size=40x40 at 0x2ED224CB0B8>"
      ]
     },
     "metadata": {},
     "output_type": "display_data"
    },
    {
     "name": "stdout",
     "output_type": "stream",
     "text": [
      "\n",
      "Run time:  84.60598182678223\n",
      "Linear Dark Blueness Score     Rule falsified: True\t Numerical stability: True\n"
     ]
    },
    {
     "data": {
      "image/png": "[encoded data removed]",
      "text/plain": [
       "<PIL.Image.Image image mode=RGB size=40x40 at 0x2ED369F2080>"
      ]
     },
     "metadata": {},
     "output_type": "display_data"
    },
    {
     "name": "stdout",
     "output_type": "stream",
     "text": [
      "\n",
      "Run time:  121.95217680931091\n",
      "Linear Light Yellowness Score  Rule falsified: True\t Numerical stability: True\n"
     ]
    },
    {
     "data": {
      "image/png": "[encoded data removed]",
      "text/plain": [
       "<PIL.Image.Image image mode=RGB size=40x40 at 0x2ED35C50048>"
      ]
     },
     "metadata": {},
     "output_type": "display_data"
    },
    {
     "name": "stdout",
     "output_type": "stream",
     "text": [
      "\n",
      "Run time:  56.65144681930542\n",
      "Linear Light Magentaness Score Rule falsified: True\t Numerical stability: True\n"
     ]
    },
    {
     "data": {
      "image/png": "[encoded data removed]",
      "text/plain": [
       "<PIL.Image.Image image mode=RGB size=40x40 at 0x2ED371D1198>"
      ]
     },
     "metadata": {},
     "output_type": "display_data"
    },
    {
     "name": "stdout",
     "output_type": "stream",
     "text": [
      "\n",
      "Run time:  149.1060872077942\n",
      "l1s[357]: 2.355302299349994e-07\n",
      "Linear Light Cyanness Score    Rule falsified: True\t Numerical stability: False\n"
     ]
    },
    {
     "data": {
      "image/png": "[encoded data removed]",
      "text/plain": [
       "<PIL.Image.Image image mode=RGB size=40x40 at 0x2ED36724048>"
      ]
     },
     "metadata": {},
     "output_type": "display_data"
    },
    {
     "name": "stdout",
     "output_type": "stream",
     "text": [
      "\n",
      "Run time:  51.76082897186279\n",
      "Linear Red-Greenness Score     Rule falsified: True\t Numerical stability: True\n"
     ]
    },
    {
     "data": {
      "image/png": "[encoded data removed]",
      "text/plain": [
       "<PIL.Image.Image image mode=RGB size=40x40 at 0x2ED36BED198>"
      ]
     },
     "metadata": {},
     "output_type": "display_data"
    },
    {
     "name": "stdout",
     "output_type": "stream",
     "text": [
      "\n",
      "Run time:  74.44202136993408\n",
      "Linear Red-Blueness Score      Rule falsified: True\t Numerical stability: True\n"
     ]
    },
    {
     "data": {
      "image/png": "[encoded data removed]",
      "text/plain": [
       "<PIL.Image.Image image mode=RGB size=40x40 at 0x2ED36568048>"
      ]
     },
     "metadata": {},
     "output_type": "display_data"
    },
    {
     "name": "stdout",
     "output_type": "stream",
     "text": [
      "\n",
      "Run time:  52.34415078163147\n",
      "Linear Green-Blueness Score    Rule falsified: True\t Numerical stability: True\n"
     ]
    },
    {
     "data": {
      "image/png": "[encoded data removed]",
      "text/plain": [
       "<PIL.Image.Image image mode=RGB size=40x40 at 0x2ED3645A2E8>"
      ]
     },
     "metadata": {},
     "output_type": "display_data"
    },
    {
     "name": "stdout",
     "output_type": "stream",
     "text": [
      "\n",
      "Run time:  69.80846214294434\n",
      "Linear Intensity Score         Rule falsified: True\t Numerical stability: True\n"
     ]
    },
    {
     "data": {
      "image/png": "[encoded data removed]",
      "text/plain": [
       "<PIL.Image.Image image mode=RGB size=40x40 at 0x2ED11D8C0B8>"
      ]
     },
     "metadata": {},
     "output_type": "display_data"
    }
   ],
   "source": [
    "verificator = VerifGTSRB01(bw, LAYER_LEN, IMG_SHAPE, MARGIN)\n",
    "for spec in specifications[:]:\n",
    "    verificator.verify(spec, verbose=False)"
   ]
  },
  {
   "cell_type": "code",
   "execution_count": 44,
   "metadata": {},
   "outputs": [
    {
     "name": "stdout",
     "output_type": "stream",
     "text": [
      "score@[1]: 8098.366304053781\n",
      "diffs: [31763.364386945927, 0.0, 3684.1417156586685, 26716.338598408496, 4684.260547806861, 6617.673506785329, 24640.96492268696, 24114.301730866726, 18236.57953558053, 28129.12308109735, 14532.650613930547, 39703.89396194344, 9316.806942469546, 30583.788769133498, 27884.18215259409, 20110.613779382347, 42534.22976174868, 28320.003451144134, 28287.933693694118, 47830.35007486119, 39967.201070223135, 36320.22181450076, 65062.17765540654, 61769.40039839608, 46768.82001557491, 30212.053716935123, 40011.593783545046, 58305.127052252676, 56887.62491116231, 49321.78123365488, 54979.64482193, 23397.722255897672, 41185.94489874612, 9468.022448083257, 27447.06062468254, 21258.533027121975, 25726.623077672084, 7172.887517281018, 14468.971809547511, 20649.40404610991, 8314.47773250422, 37147.117581254766, 29070.092999545785]\n"
     ]
    }
   ],
   "source": [
    "argmax = np.argmax(hmx.value)\n",
    "clsmax = adv_out[argmax]\n",
    "print(f'score@[{clsmax}]: {l2z.value[clsmax]}')\n",
    "print(f'diffs: {[l2z.value[clsmax]-l2z.value[i] for i in range(43)]}')"
   ]
  },
  {
   "cell_type": "code",
   "execution_count": 45,
   "metadata": {},
   "outputs": [
    {
     "name": "stdout",
     "output_type": "stream",
     "text": [
      "[(1, 8098.366304053781), (2, 4414.224588395113), (4, 3414.1057562469205), (5, 1480.6927972684525), (37, 925.4787867727637)]\n",
      "[(27, -50206.760748198896), (23, -53671.0340943423), (22, -56963.811351352764)]\n"
     ]
    }
   ],
   "source": [
    "def takeSecond(elem):\n",
    "    return elem[1]\n",
    "scores = []\n",
    "for i, score in enumerate(l2z.value):\n",
    "    scores.append((i, score))\n",
    "scores.sort(key=takeSecond, reverse=True)\n",
    "print(scores[:5])\n",
    "print(scores[-3:])"
   ]
  },
  {
   "cell_type": "code",
   "execution_count": 46,
   "metadata": {},
   "outputs": [
    {
     "data": {
      "image/png": "[encoded data removed]",
      "text/plain": [
       "<PIL.Image.Image image mode=RGB size=40x40 at 0x213B9BBD080>"
      ]
     },
     "metadata": {},
     "output_type": "display_data"
    }
   ],
   "source": [
    "img_arr = np.reshape(l0a.value, IMG_SHAPE).astype(np.uint8)\n",
    "display(PIL.Image.fromarray(img_arr))"
   ]
  },
  {
   "cell_type": "code",
   "execution_count": 28,
   "metadata": {},
   "outputs": [
    {
     "name": "stdout",
     "output_type": "stream",
     "text": [
      "-7151.369775578802 12349.772123873583\n"
     ]
    }
   ],
   "source": [
    "print(np.min(l1z.value), np.max(l1z.value))"
   ]
  }
 ],
 "metadata": {
  "kernelspec": {
   "display_name": "Python (dnncvx)",
   "language": "python",
   "name": "dnncvx"
  },
  "language_info": {
   "codemirror_mode": {
    "name": "ipython",
    "version": 3
   },
   "file_extension": ".py",
   "mimetype": "text/x-python",
   "name": "python",
   "nbconvert_exporter": "python",
   "pygments_lexer": "ipython3",
   "version": "3.6.8"
  }
 },
 "nbformat": 4,
 "nbformat_minor": 2
}
