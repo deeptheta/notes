{
 "cells": [
  {
   "cell_type": "code",
   "execution_count": 1,
   "metadata": {},
   "outputs": [
    {
     "name": "stdout",
     "output_type": "stream",
     "text": [
      "CVXPY version:  1.0.21\n",
      "CVXPY solvers:  ['ECOS', 'ECOS_BB', 'CVXOPT', 'GLPK', 'XPRESS', 'GLPK_MI', 'CBC', 'SCS', 'GUROBI', 'OSQP', 'GUROBI']\n"
     ]
    }
   ],
   "source": [
    "%config IPCompleter.greedy=True\n",
    "import cvxpy as cp\n",
    "import numpy as np\n",
    "import pandas as pd\n",
    "import tensorflow as tf\n",
    "from tensorflow.keras.preprocessing.image import ImageDataGenerator\n",
    "from tensorflow.keras.preprocessing import image\n",
    "import PIL.Image\n",
    "import time\n",
    "print('CVXPY version: ', cp.__version__)\n",
    "print('CVXPY solvers: ', cp.installed_solvers())"
   ]
  },
  {
   "cell_type": "code",
   "execution_count": 2,
   "metadata": {},
   "outputs": [
    {
     "name": "stdout",
     "output_type": "stream",
     "text": [
      "WARNING:tensorflow:From C:\\Users\\admin\\.conda\\envs\\dnncvx\\lib\\site-packages\\tensorflow\\python\\ops\\resource_variable_ops.py:435: colocate_with (from tensorflow.python.framework.ops) is deprecated and will be removed in a future version.\n",
      "Instructions for updating:\n",
      "Colocations handled automatically by placer.\n",
      "WARNING:tensorflow:From C:\\Users\\admin\\.conda\\envs\\dnncvx\\lib\\site-packages\\tensorflow\\python\\keras\\layers\\core.py:143: calling dropout (from tensorflow.python.ops.nn_ops) with keep_prob is deprecated and will be removed in a future version.\n",
      "Instructions for updating:\n",
      "Please use `rate` instead of `keep_prob`. Rate should be set to `rate = 1 - keep_prob`.\n"
     ]
    }
   ],
   "source": [
    "# load pretrained model   \n",
    "model = tf.keras.models.load_model('gtsrb_01_model.h5')"
   ]
  },
  {
   "cell_type": "code",
   "execution_count": 3,
   "metadata": {},
   "outputs": [],
   "source": [
    "NOF_CLASSES = 43\n",
    "LAYER_LEN = [4800, 512, NOF_CLASSES]\n",
    "IMG_SHAPE = (40, 40, 3)\n",
    "MARGIN = 5\n",
    "# indices of red channels of inner pixels\n",
    "ridx = np.array([120*i+3*j for i in range(MARGIN, IMG_SHAPE[0]-MARGIN) for j in range(MARGIN, IMG_SHAPE[1]-MARGIN)])"
   ]
  },
  {
   "cell_type": "code",
   "execution_count": 4,
   "metadata": {},
   "outputs": [
    {
     "name": "stdout",
     "output_type": "stream",
     "text": [
      "resulting bw[1]: (4801, 512)\n",
      "resulting bw[2]: (513, 43)\n"
     ]
    }
   ],
   "source": [
    "bw = [None, np.zeros((LAYER_LEN[0]+1,LAYER_LEN[1])), np.zeros((LAYER_LEN[1]+1,LAYER_LEN[2]))]  # \"biased weights\"\n",
    "for i, layer in enumerate(model.layers):\n",
    "    weights = layer.get_weights()  # list of numpy arrays\n",
    "#     print(f'keras layer[{i}] {layer.name} weights nparrays: {len(weights)}')\n",
    "    if i in [1, 3]:\n",
    "        icorr = i//2 + 1\n",
    "#         print(f'layer{icorr} weights: {weights[0].shape} and {weights[1].shape}')\n",
    "        bw[icorr] = np.vstack((weights[0], weights[1]))\n",
    "        print(f'resulting bw[{icorr}]: {bw[icorr].shape}')"
   ]
  },
  {
   "cell_type": "code",
   "execution_count": 156,
   "metadata": {},
   "outputs": [
    {
     "name": "stdout",
     "output_type": "stream",
     "text": [
      "Parameter OutputFlag unchanged\n",
      "   Value: 1  Min: 0  Max: 1  Default: 1\n",
      "Changed value of parameter QCPDual to 1\n",
      "   Prev: 0  Min: 0  Max: 1  Default: 0\n",
      "Optimize a model with 13675 rows, 6414 columns and 2501012 nonzeros\n",
      "Variable types: 1067 continuous, 5347 integer (547 binary)\n",
      "Coefficient statistics:\n",
      "  Matrix range     [1e-08, 1e+05]\n",
      "  Objective range  [0e+00, 0e+00]\n",
      "  Bounds range     [1e+00, 1e+00]\n",
      "  RHS range        [1e-05, 1e+05]\n",
      "Warning: Model contains large matrix coefficient range\n",
      "         Consider reformulating model or setting NumericFocus parameter\n",
      "         to avoid numerical issues.\n",
      "Presolve removed 10112 rows and 0 columns\n",
      "Presolve time: 1.69s\n",
      "Presolved: 3563 rows, 6414 columns, 2490900 nonzeros\n",
      "Variable types: 1067 continuous, 5347 integer (547 binary)\n",
      "\n",
      "Root relaxation: objective 0.000000e+00, 383 iterations, 0.23 seconds\n",
      "\n",
      "    Nodes    |    Current Node    |     Objective Bounds      |     Work\n",
      " Expl Unexpl |  Obj  Depth IntInf | Incumbent    BestBd   Gap | It/Node Time\n",
      "\n",
      "H    0     0                       0.0000000    0.00000  0.00%     -    4s\n",
      "     0     0    0.00000    0    2    0.00000    0.00000  0.00%     -    4s\n",
      "\n",
      "Explored 0 nodes (727 simplex iterations) in 4.55 seconds\n",
      "Thread count was 12 (of 12 available processors)\n",
      "\n",
      "Solution count 1: 0 \n",
      "\n",
      "Optimal solution found (tolerance 1.00e-04)\n",
      "Best objective 0.000000000000e+00, best bound 0.000000000000e+00, gap 0.0000%\n",
      "status: optimal\n",
      "optimal value 1.0\n",
      "Run time:  21.088571310043335\n",
      "GUROBI solve time: 4.557834625244141\n"
     ]
    }
   ],
   "source": [
    "BIG_M1 = 100000\n",
    "BIG_M2 = 100000\n",
    "\n",
    "# VARS\n",
    "l0a = cp.Variable(LAYER_LEN[0], integer=True)\n",
    "l1z = cp.Variable(LAYER_LEN[1])\n",
    "l1s = cp.Variable(LAYER_LEN[1], boolean=True)  # is ReLU active? (in the positive regime)\n",
    "l1a = cp.Variable(LAYER_LEN[1])\n",
    "l2z = cp.Variable(LAYER_LEN[2])\n",
    "# hmx vars\n",
    "l_r_out = range(33, 41)  # specified expected output classes\n",
    "adv_out = [c for c in range(NOF_CLASSES) if c not in l_r_out]  # ADVERSARIAL output must fall into one of these\n",
    "hmx = cp.Variable(len(adv_out), boolean=True)  # is hardmax active for class hmx[k] out of K expected? NOTE DIFFERENT NUMBERING!\n",
    "\n",
    "# CONSTRAINTS\n",
    "constraints = []\n",
    "L = 0\n",
    "for i in range(LAYER_LEN[L]):\n",
    "    constraints.append(l0a[i] >= 0)\n",
    "    constraints.append(l0a[i] <= 255)\n",
    "L = 1\n",
    "for i in range(LAYER_LEN[L]):\n",
    "    _dendrites = l0a * bw[L][:-1, i]\n",
    "    _bias = bw[L][-1, i]\n",
    "    constraints.append(l1z[i] == cp.sum(_dendrites) + _bias)\n",
    "    constraints.append(l1a[i] >= 0)\n",
    "    constraints.append(l1a[i] >= l1z[i])\n",
    "    constraints.append(l1a[i] <= BIG_M1*l1s[i])\n",
    "    constraints.append(l1a[i] <= l1z[i] + BIG_M1*(1-l1s[i]))\n",
    "L = 2\n",
    "for i in range(LAYER_LEN[L]):\n",
    "    _dendrites = l1a * bw[L][:-1, i]\n",
    "    _bias = bw[L][-1, i]\n",
    "    constraints.append(l2z[i] == cp.sum(_dendrites) + _bias)\n",
    "    \n",
    "# SPECIFICATION CONSTRAINTS\n",
    "# input features for specification\n",
    "r = l0a[ridx]  # red intensities within margin\n",
    "g = l0a[ridx+1]  # green intensities within margin\n",
    "b = l0a[ridx+2]  # blue intensities within margin\n",
    "l_r = (1/2 + (1/3600)*cp.sum(2*r-g-b)/255) <= 0.4398\n",
    "\n",
    "# specified input\n",
    "constraints.append(l_r)\n",
    "# specified output\n",
    "constraints.append(cp.sum(hmx) == 1)  # hardmax selects exactly one\n",
    "for k, i in enumerate(adv_out):\n",
    "    for j in range(LAYER_LEN[2]):\n",
    "        if i!=j:\n",
    "            _d = l2z[i]-l2z[j]\n",
    "            constraints.append(_d >= -BIG_M2 * (1-hmx[k]))  # the selected max must have all differences >= 0\n",
    "\n",
    "# OBJ\n",
    "obj = cp.Minimize(1)\n",
    "\n",
    "# PROBLEM\n",
    "prob = cp.Problem(obj, constraints)\n",
    "\n",
    "# SOLVE\n",
    "start = time.time()\n",
    "prob.solve(solver=cp.GUROBI, verbose=True)  # GLPK_MI, CBC, XPRESS, GUROBI\n",
    "end = time.time()\n",
    "\n",
    "print(\"status:\", prob.status)\n",
    "print(\"optimal value\", prob.value)\n",
    "print(f'Run time: ', end - start)\n",
    "if prob.solver_stats:\n",
    "    print(f'{prob.solver_stats.solver_name} solve time: {prob.solver_stats.solve_time}')"
   ]
  },
  {
   "cell_type": "code",
   "execution_count": null,
   "metadata": {},
   "outputs": [],
   "source": [
    "# integrality checks: the solvers may find unwarranted \"adversarials\" bc of tolerance\n",
    "# if no sol found: great! that means there are neither warranted nor unwarranted adversarials ==> VERIFIED.\n",
    "# if sol found and integral: it is a warranted adversarial ==> FALSIFIED.\n",
    "# if sol found but not integral: unwarranted adversarial: there may stil be a real adversarial out there ==> tighten BIG_M\n",
    "# see: http://www.gurobi.com/documentation/8.1/refman/numerics_dealing_with_big_.html"
   ]
  },
  {
   "cell_type": "code",
   "execution_count": 157,
   "metadata": {},
   "outputs": [
    {
     "name": "stdout",
     "output_type": "stream",
     "text": [
      "score@[4]: 10891.055424086806\n",
      "diffs: [26617.076658076563, 5064.264029436129, 8587.558388223651, 22716.098832430172, 0.0, 13146.355553762072, 45210.606149436, 26396.5652606964, 2504.9458731618397, 19560.230498196266, 32586.59623869807, 60213.71659126647, 30842.76362843087, 21970.429617637135, 40413.48503437493, 11102.274650318128, 41344.71098574153, 32890.5349182984, 28709.59817732886, 53766.06758629602, 28549.584316844404, 56476.97958235638, 55667.80603674597, 68739.05560675006, 46915.43365857011, 38545.24087133464, 45227.21711253, 60739.883654911966, 47366.981833203055, 43743.28680831826, 64886.03641325082, 36949.05317788168, 40033.819574124616, 11955.97987791473, 25005.829287299886, 16223.494026680435, 17593.32459245335, 4045.7929386659907, 11707.071317818405, 13112.605125714099, 6580.250868470952, 36033.91380715659, 48875.014664560535]\n"
     ]
    }
   ],
   "source": [
    "argmax = np.argmax(hmx.value)\n",
    "clsmax = adv_out[argmax]\n",
    "print(f'score@[{clsmax}]: {l2z.value[clsmax]}')\n",
    "print(f'diffs: {[l2z.value[clsmax]-l2z.value[i] for i in range(43)]}')"
   ]
  },
  {
   "cell_type": "code",
   "execution_count": 158,
   "metadata": {},
   "outputs": [
    {
     "name": "stdout",
     "output_type": "stream",
     "text": [
      "[(4, 10891.055424086806), (8, 8386.109550924966), (37, 6845.262485420815), (1, 5826.791394650677), (40, 4310.804555615854)]\n",
      "[(27, -49848.82823082516), (30, -53994.98098916401), (23, -57848.00018266325)]\n"
     ]
    }
   ],
   "source": [
    "def takeSecond(elem):\n",
    "    return elem[1]\n",
    "scores = []\n",
    "for i, score in enumerate(l2z.value):\n",
    "    scores.append((i, score))\n",
    "scores.sort(key=takeSecond, reverse=True)\n",
    "print(scores[:5])\n",
    "print(scores[-3:])"
   ]
  },
  {
   "cell_type": "code",
   "execution_count": 159,
   "metadata": {},
   "outputs": [
    {
     "data": {
      "image/png": "[encoded data removed]",
      "text/plain": [
       "<PIL.Image.Image image mode=RGB size=40x40 at 0x1FABB6EA780>"
      ]
     },
     "metadata": {},
     "output_type": "display_data"
    }
   ],
   "source": [
    "img_arr = np.reshape(l0a.value, IMG_SHAPE).astype(np.uint8)\n",
    "display(PIL.Image.fromarray(img_arr))"
   ]
  },
  {
   "cell_type": "code",
   "execution_count": 160,
   "metadata": {},
   "outputs": [
    {
     "name": "stdout",
     "output_type": "stream",
     "text": [
      "-7254.994730832856 15063.090815317584\n"
     ]
    }
   ],
   "source": [
    "print(np.min(l1z.value), np.max(l1z.value))"
   ]
  },
  {
   "cell_type": "code",
   "execution_count": 161,
   "metadata": {},
   "outputs": [
    {
     "name": "stdout",
     "output_type": "stream",
     "text": [
      "l1s[5]: 1.0\n",
      "l1s[29]: 1.0\n",
      "l1s[44]: 1.0\n",
      "l1s[78]: 1.0\n",
      "l1s[88]: 1.0\n",
      "l1s[94]: 1.0\n",
      "l1s[98]: 1.0\n",
      "l1s[99]: 1.0\n",
      "l1s[109]: 1.0\n",
      "l1s[115]: 1.0\n",
      "l1s[117]: 1.0\n",
      "l1s[126]: 1.0\n",
      "l1s[132]: 1.0\n",
      "l1s[147]: 1.0\n",
      "l1s[161]: 1.0\n",
      "l1s[166]: 1.0\n",
      "l1s[170]: 1.0\n",
      "l1s[183]: 1.0\n",
      "l1s[201]: 1.0\n",
      "l1s[203]: 1.0\n",
      "l1s[207]: 1.0\n",
      "l1s[221]: 1.0\n",
      "l1s[243]: 1.0\n",
      "l1s[250]: 1.0\n",
      "l1s[257]: 1.0\n",
      "l1s[261]: 1.0\n",
      "l1s[286]: 1.0\n",
      "l1s[310]: 1.0\n",
      "l1s[314]: 1.0\n",
      "l1s[315]: 1.0\n",
      "l1s[324]: 1.0\n",
      "l1s[343]: 1.0\n",
      "l1s[354]: 1.0\n",
      "l1s[357]: 1.0\n",
      "l1s[358]: 1.0\n",
      "l1s[398]: 1.0\n",
      "l1s[401]: 1.0\n",
      "l1s[411]: 1.0\n",
      "l1s[433]: 1.0\n",
      "l1s[446]: 1.0\n",
      "l1s[448]: 1.0\n",
      "l1s[457]: 1.0\n",
      "l1s[480]: 1.0\n",
      "l1s[481]: 1.0\n",
      "l1s[505]: 1.0\n",
      "hmx[4]: 1.0\n"
     ]
    }
   ],
   "source": [
    "nzidx_l1s = np.flatnonzero(l1s.value)\n",
    "nzidx_hmx = np.flatnonzero(hmx.value)\n",
    "niidx_l0a = np.flatnonzero(l0a.value%1)\n",
    "for idx in nzidx_l1s:\n",
    "    print(f'l1s[{idx}]: {l1s.value[idx]}')\n",
    "for idx in nzidx_hmx:\n",
    "    print(f'hmx[{idx}]: {hmx.value[idx]}')\n",
    "for idx in niidx_l0a:\n",
    "    print(f'l0a[{idx}]: {l0a.value[idx]}')"
   ]
  }
 ],
 "metadata": {
  "kernelspec": {
   "display_name": "Python (dnncvx)",
   "language": "python",
   "name": "dnncvx"
  },
  "language_info": {
   "codemirror_mode": {
    "name": "ipython",
    "version": 3
   },
   "file_extension": ".py",
   "mimetype": "text/x-python",
   "name": "python",
   "nbconvert_exporter": "python",
   "pygments_lexer": "ipython3",
   "version": "3.6.8"
  }
 },
 "nbformat": 4,
 "nbformat_minor": 2
}
