{
 "cells": [
  {
   "cell_type": "code",
   "execution_count": 1,
   "metadata": {},
   "outputs": [
    {
     "name": "stdout",
     "output_type": "stream",
     "text": [
      "CVXPY version:  1.0.6\n",
      "CVXPY solvers:  ['ECOS', 'ECOS_BB', 'CVXOPT', 'GLPK', 'GLPK_MI', 'SCS', 'GUROBI', 'GUROBI']\n"
     ]
    }
   ],
   "source": [
    "%config IPCompleter.greedy=True\n",
    "import cvxpy as cp\n",
    "import numpy as np\n",
    "import pandas as pd\n",
    "import tensorflow as tf\n",
    "from tensorflow.keras.preprocessing.image import ImageDataGenerator\n",
    "from tensorflow.keras.preprocessing import image\n",
    "import PIL.Image\n",
    "import time\n",
    "print('CVXPY version: ', cp.__version__)\n",
    "print('CVXPY solvers: ', cp.installed_solvers())"
   ]
  },
  {
   "cell_type": "code",
   "execution_count": 2,
   "metadata": {},
   "outputs": [],
   "source": [
    "# load pretrained model   \n",
    "model = tf.keras.models.load_model('gtsrb_01_model.h5')"
   ]
  },
  {
   "cell_type": "code",
   "execution_count": 3,
   "metadata": {},
   "outputs": [],
   "source": [
    "NOF_CLASSES = 43\n",
    "LAYER_LEN = [4800, 512, NOF_CLASSES]\n",
    "IMG_SHAPE = (40, 40, 3)\n",
    "MARGIN = 5\n",
    "# indices of red channels of inner pixels\n",
    "ridx = np.array([120*i+3*j for i in range(MARGIN, IMG_SHAPE[0]-MARGIN) for j in range(MARGIN, IMG_SHAPE[1]-MARGIN)])"
   ]
  },
  {
   "cell_type": "code",
   "execution_count": 4,
   "metadata": {},
   "outputs": [
    {
     "name": "stdout",
     "output_type": "stream",
     "text": [
      "resulting bw[1]: (4801, 512)\n",
      "resulting bw[2]: (513, 43)\n"
     ]
    }
   ],
   "source": [
    "bw = [None, np.zeros((LAYER_LEN[0]+1,LAYER_LEN[1])), np.zeros((LAYER_LEN[1]+1,LAYER_LEN[2]))]  # \"biased weights\"\n",
    "for i, layer in enumerate(model.layers):\n",
    "    weights = layer.get_weights()  # list of numpy arrays\n",
    "#     print(f'keras layer[{i}] {layer.name} weights nparrays: {len(weights)}')\n",
    "    if i in [1, 3]:\n",
    "        icorr = i//2 + 1\n",
    "#         print(f'layer{icorr} weights: {weights[0].shape} and {weights[1].shape}')\n",
    "        bw[icorr] = np.vstack((weights[0], weights[1]))\n",
    "        print(f'resulting bw[{icorr}]: {bw[icorr].shape}')"
   ]
  },
  {
   "cell_type": "code",
   "execution_count": 40,
   "metadata": {},
   "outputs": [
    {
     "name": "stdout",
     "output_type": "stream",
     "text": [
      "Parameter OutputFlag unchanged\n",
      "   Value: 1  Min: 0  Max: 1  Default: 1\n",
      "Changed value of parameter QCPDual to 1\n",
      "   Prev: 0  Min: 0  Max: 1  Default: 0\n",
      "Optimize a model with 13633 rows, 6413 columns and 2500885 nonzeros\n",
      "Variable types: 1067 continuous, 5346 integer (546 binary)\n",
      "Coefficient statistics:\n",
      "  Matrix range     [1e-08, 1e+05]\n",
      "  Objective range  [0e+00, 0e+00]\n",
      "  Bounds range     [1e+00, 1e+00]\n",
      "  RHS range        [1e-05, 1e+05]\n",
      "Warning: Model contains large matrix coefficient range\n",
      "         Consider reformulating model or setting NumericFocus parameter\n",
      "         to avoid numerical issues.\n",
      "Presolve removed 10112 rows and 0 columns\n",
      "Presolve time: 2.19s\n",
      "Presolved: 3521 rows, 6413 columns, 2490773 nonzeros\n",
      "Variable types: 1067 continuous, 5346 integer (546 binary)\n",
      "\n",
      "Root relaxation: objective 0.000000e+00, 376 iterations, 0.26 seconds\n",
      "Total elapsed time = 5.95s\n",
      "\n",
      "    Nodes    |    Current Node    |     Objective Bounds      |     Work\n",
      " Expl Unexpl |  Obj  Depth IntInf | Incumbent    BestBd   Gap | It/Node Time\n",
      "\n",
      "H    0     0                       0.0000000    0.00000  0.00%     -    5s\n",
      "     0     0    0.00000    0    2    0.00000    0.00000  0.00%     -    5s\n",
      "\n",
      "Explored 0 nodes (723 simplex iterations) in 6.00 seconds\n",
      "Thread count was 4 (of 4 available processors)\n",
      "\n",
      "Solution count 1: 0 \n",
      "\n",
      "Optimal solution found (tolerance 1.00e-04)\n",
      "Best objective 0.000000000000e+00, best bound 0.000000000000e+00, gap 0.0000%\n",
      "status: optimal\n",
      "optimal value 1.0\n",
      "Run time:  33.31123352050781\n",
      "GUROBI solve time: 6.007102012634277\n"
     ]
    }
   ],
   "source": [
    "BIG_M1 = 100000\n",
    "BIG_M2 = 100000\n",
    "\n",
    "# VARS\n",
    "l0a = cp.Variable(LAYER_LEN[0], integer=True)\n",
    "l1z = cp.Variable(LAYER_LEN[1])\n",
    "l1s = cp.Variable(LAYER_LEN[1], boolean=True)  # is ReLU active? (in the positive regime)\n",
    "l1a = cp.Variable(LAYER_LEN[1])\n",
    "l2z = cp.Variable(LAYER_LEN[2])\n",
    "# hmx vars\n",
    "l_r_out = range(33, 41)  # specified expected output classes\n",
    "l_y_out = range(33, 42)\n",
    "adv_out = [c for c in range(NOF_CLASSES) if c not in l_y_out]  # ADVERSARIAL output must fall into one of these\n",
    "hmx = cp.Variable(len(adv_out), boolean=True)  # is hardmax active for class hmx[k] out of K expected? NOTE DIFFERENT NUMBERING!\n",
    "\n",
    "# CONSTRAINTS\n",
    "constraints = []\n",
    "L = 0\n",
    "for i in range(LAYER_LEN[L]):\n",
    "    constraints.append(l0a[i] >= 0)\n",
    "    constraints.append(l0a[i] <= 255)\n",
    "L = 1\n",
    "for i in range(LAYER_LEN[L]):\n",
    "    _dendrites = l0a * bw[L][:-1, i]\n",
    "    _bias = bw[L][-1, i]\n",
    "    constraints.append(l1z[i] == cp.sum(_dendrites) + _bias)\n",
    "    constraints.append(l1a[i] >= 0)\n",
    "    constraints.append(l1a[i] >= l1z[i])\n",
    "    constraints.append(l1a[i] <= BIG_M1*l1s[i])\n",
    "    constraints.append(l1a[i] <= l1z[i] + BIG_M1*(1-l1s[i]))\n",
    "L = 2\n",
    "for i in range(LAYER_LEN[L]):\n",
    "    _dendrites = l1a * bw[L][:-1, i]\n",
    "    _bias = bw[L][-1, i]\n",
    "    constraints.append(l2z[i] == cp.sum(_dendrites) + _bias)\n",
    "    \n",
    "# SPECIFICATION CONSTRAINTS\n",
    "# input features for specification\n",
    "r = l0a[ridx]  # red intensities within margin\n",
    "g = l0a[ridx+1]  # green intensities within margin\n",
    "b = l0a[ridx+2]  # blue intensities within margin\n",
    "l_r = (1/2 + (1/3600)*cp.sum(2*r-g-b)/255) <= 0.4398\n",
    "l_y = (1/2 + (1/3600)*cp.sum(r+g-2*b)/255) <= 0.4323\n",
    "\n",
    "# specified input\n",
    "constraints.append(l_y)\n",
    "# specified output\n",
    "constraints.append(cp.sum(hmx) == 1)  # hardmax selects exactly one\n",
    "for k, i in enumerate(adv_out):\n",
    "    for j in range(LAYER_LEN[2]):\n",
    "        if i!=j:\n",
    "            _d = l2z[i]-l2z[j]\n",
    "            constraints.append(_d >= -BIG_M2 * (1-hmx[k]))  # the selected max must have all differences >= 0\n",
    "\n",
    "# OBJ\n",
    "obj = cp.Minimize(1)\n",
    "\n",
    "# PROBLEM\n",
    "prob = cp.Problem(obj, constraints)\n",
    "\n",
    "# SOLVE\n",
    "start = time.time()\n",
    "prob.solve(solver=cp.GUROBI, verbose=True)  # GLPK_MI, CBC, XPRESS, GUROBI\n",
    "end = time.time()\n",
    "\n",
    "print(\"status:\", prob.status)\n",
    "print(\"optimal value\", prob.value)\n",
    "print(f'Run time: ', end - start)\n",
    "if prob.solver_stats:\n",
    "    print(f'{prob.solver_stats.solver_name} solve time: {prob.solver_stats.solve_time}')"
   ]
  },
  {
   "cell_type": "code",
   "execution_count": 41,
   "metadata": {},
   "outputs": [
    {
     "name": "stdout",
     "output_type": "stream",
     "text": [
      "True\n"
     ]
    }
   ],
   "source": [
    "# integrality checks: the solvers may find unwarranted \"adversarials\" bc of tolerance\n",
    "# if no sol found: great! that means there are neither warranted nor unwarranted adversarials ==> VERIFIED.\n",
    "# if sol found and integral: it is a warranted adversarial ==> FALSIFIED.\n",
    "# if sol found but not integral: unwarranted adversarial: a real adversarial may still be out there\n",
    "#   ==> tighten BIG_M or tolerance or try other solver\n",
    "# see: http://www.gurobi.com/documentation/8.1/refman/numerics_dealing_with_big_.html\n",
    "def checkWarrantedAdversarial():\n",
    "    if prob.status == 'optimal':\n",
    "        if np.flatnonzero(l0a.value%1).size>0:\n",
    "            return False\n",
    "        if (l1s.value[np.flatnonzero(l1s.value)] != 1).any():\n",
    "            return False\n",
    "        if (hmx.value[np.flatnonzero(hmx.value)] != 1).any():\n",
    "            return False\n",
    "    return True\n",
    "\n",
    "def print_nonintegral():\n",
    "    l1s_neitheroff = l1s.value!=0\n",
    "    l1s_neitheron = l1s.value!=1\n",
    "    hmx_neitheroff = hmx.value!=0\n",
    "    hmx_neitheron = hmx.value!=1\n",
    "    nbidx_l1s = np.flatnonzero(l1s_neitheroff*l1s_neitheron)\n",
    "    nbidx_hmx = np.flatnonzero(hmx_neitheroff*hmx_neitheron)\n",
    "    niidx_l0a = np.flatnonzero(l0a.value%1)\n",
    "    for idx in nbidx_l1s:\n",
    "        print(f'l1s[{idx}]: {l1s.value[idx]}')\n",
    "    for idx in nbidx_hmx:\n",
    "        print(f'hmx[{idx}]: {hmx.value[idx]}')\n",
    "    for idx in niidx_l0a:\n",
    "        print(f'l0a[{idx}]: {l0a.value[idx]}')\n",
    "        \n",
    "print(checkWarrantedAdversarial())\n",
    "print_nonintegral()"
   ]
  },
  {
   "cell_type": "code",
   "execution_count": 42,
   "metadata": {},
   "outputs": [
    {
     "name": "stdout",
     "output_type": "stream",
     "text": [
      "score@[1]: 8098.366304053781\n",
      "diffs: [31763.364386945927, 0.0, 3684.1417156586685, 26716.338598408496, 4684.260547806861, 6617.673506785329, 24640.96492268696, 24114.301730866726, 18236.57953558053, 28129.12308109735, 14532.650613930547, 39703.89396194344, 9316.806942469546, 30583.788769133498, 27884.18215259409, 20110.613779382347, 42534.22976174868, 28320.003451144134, 28287.933693694118, 47830.35007486119, 39967.201070223135, 36320.22181450076, 65062.17765540654, 61769.40039839608, 46768.82001557491, 30212.053716935123, 40011.593783545046, 58305.127052252676, 56887.62491116231, 49321.78123365488, 54979.64482193, 23397.722255897672, 41185.94489874612, 9468.022448083257, 27447.06062468254, 21258.533027121975, 25726.623077672084, 7172.887517281018, 14468.971809547511, 20649.40404610991, 8314.47773250422, 37147.117581254766, 29070.092999545785]\n"
     ]
    }
   ],
   "source": [
    "argmax = np.argmax(hmx.value)\n",
    "clsmax = adv_out[argmax]\n",
    "print(f'score@[{clsmax}]: {l2z.value[clsmax]}')\n",
    "print(f'diffs: {[l2z.value[clsmax]-l2z.value[i] for i in range(43)]}')"
   ]
  },
  {
   "cell_type": "code",
   "execution_count": 43,
   "metadata": {},
   "outputs": [
    {
     "name": "stdout",
     "output_type": "stream",
     "text": [
      "[(1, 8098.366304053781), (2, 4414.224588395113), (4, 3414.1057562469205), (5, 1480.6927972684525), (37, 925.4787867727637)]\n",
      "[(27, -50206.760748198896), (23, -53671.0340943423), (22, -56963.811351352764)]\n"
     ]
    }
   ],
   "source": [
    "def takeSecond(elem):\n",
    "    return elem[1]\n",
    "scores = []\n",
    "for i, score in enumerate(l2z.value):\n",
    "    scores.append((i, score))\n",
    "scores.sort(key=takeSecond, reverse=True)\n",
    "print(scores[:5])\n",
    "print(scores[-3:])"
   ]
  },
  {
   "cell_type": "code",
   "execution_count": 44,
   "metadata": {},
   "outputs": [
    {
     "data": {
      "image/png": "[encoded data removed]",
      "text/plain": [
       "<PIL.Image.Image image mode=RGB size=40x40 at 0x7F5659FE54E0>"
      ]
     },
     "metadata": {},
     "output_type": "display_data"
    }
   ],
   "source": [
    "img_arr = np.reshape(l0a.value, IMG_SHAPE).astype(np.uint8)\n",
    "display(PIL.Image.fromarray(img_arr))"
   ]
  },
  {
   "cell_type": "code",
   "execution_count": 45,
   "metadata": {},
   "outputs": [
    {
     "name": "stdout",
     "output_type": "stream",
     "text": [
      "-7151.369775578802 12349.772123873583\n"
     ]
    }
   ],
   "source": [
    "print(np.min(l1z.value), np.max(l1z.value))"
   ]
  }
 ],
 "metadata": {
  "kernelspec": {
   "display_name": "Python (dnncvx)",
   "language": "python",
   "name": "dnncvx"
  },
  "language_info": {
   "codemirror_mode": {
    "name": "ipython",
    "version": 3
   },
   "file_extension": ".py",
   "mimetype": "text/x-python",
   "name": "python",
   "nbconvert_exporter": "python",
   "pygments_lexer": "ipython3",
   "version": "3.6.8"
  }
 },
 "nbformat": 4,
 "nbformat_minor": 2
}
