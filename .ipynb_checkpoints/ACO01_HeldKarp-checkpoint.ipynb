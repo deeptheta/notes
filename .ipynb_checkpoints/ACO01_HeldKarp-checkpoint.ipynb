{
 "cells": [
  {
   "cell_type": "markdown",
   "metadata": {},
   "source": [
    "# Activity Chain Optimization"
   ]
  },
  {
   "cell_type": "markdown",
   "metadata": {},
   "source": [
    "### Problem description\n",
    "\n",
    "The Activity Chain Optimization (ACO) problem is a novel TSP variant that resembles the Generalizied Traveling Salesman Problem with Time Windows (GTSPTW). The GTSP is also called the Set-TSP, or sometimes the Traveling Politician Problem - and is not to be confused with Green-TSP.\n",
    "\n",
    "Informal description of the ACO problem: given a map of pairwise times and costs of travel between locations that each offer the possibility for exactly one type of activity within a given time-window, and given a starting time and location, find the cheapest tour that visits all required activites exactly once.\n",
    "\n",
    "Primary intended use-case: planning the daily commute of a person given well-defined preferences as well as temporal and spatial flexibility constraints. Might be most interesting as a trip-planning app for tourists."
   ]
  },
  {
   "cell_type": "markdown",
   "metadata": {},
   "source": [
    "### ACO formalized:\n",
    "Let $\\mathcal{G = (V, E)}$ be a directed graph, with location vertices $\\mathcal{V}=\\lbrace0,1,\\dots,n-1\\rbrace$ partitioned into $\\mathcal{A_0}=\\lbrace0\\rbrace,\\mathcal{A_1},\\dots,\\mathcal{A_{m-1}}$ disjunct non-empty activity clusters. Note that $m \\le n$ and $m,n \\in \\mathbb{N^+}$. Each directed edge $(i,j) \\in \\mathcal{E}$ corresponds to a cost $C_{ij}$ and a traveling time $T_{ij}$ between vertices $i$ and $j$ $(i,j \\in \\mathcal{V}, i \\ne j)$. It is both necessary and sufficient to define edges, costs and travel times between vertices belonging to different activity clusters only, i.e. $\\mathcal{E} = \\lbrace (i,j): i \\in \\mathcal{A_k}, j \\in \\mathcal{A_l}, k \\ne l\\rbrace$. Each location vertex $j$ is also assigned a time window $W_j = \\left[W^\\prime_j, W^{\\prime\\prime}_j\\right]$. The task is to find a finite-time minimum cost circuit starting from and ending at vertex $0$ (corresponding to a unique *\"home\"* activity and location), such that exactly one vertex of each activity cluster is visited and the arrival time $\\hat{t}_j$ at each visit either falls within the visited node's time window $W_j$ or precedes it. The recursive relation between $\\hat{t}_j$ arrival times (at node $j$) and $t_j$ ready times (ready for departure from node $j$) is as follows: \n",
    "\n",
    "For a given path described by the sequence of nodes $\\left< \\dots, i, j, \\dots \\right>$ where $(i,j) \\in \\mathcal{E}$:\n",
    "$$\n",
    "t_0 \\textrm{ is given}\\\\\n",
    "\\hat{t}_j = t_i + T_{ij}\\\\\n",
    "t_j = \\begin{cases}\n",
    "W^\\prime_j &\\textrm{if $\\hat{t}_j<W^\\prime_j$}\\\\\n",
    "\\hat{t}_j &\\textrm{if $W^\\prime_j \\le \\hat{t}_j \\le W^{\\prime\\prime}_j$}\\\\\n",
    "\\infty &\\textrm{otherwise}\\\\\n",
    "\\end{cases}\n",
    "$$ \n",
    "\n",
    "If the real-world task involves time-consuming activities that have a nonzero duration $\\delta>0$ ($\\delta$ may or may not be uniform throughout different locations for the same activity), these durations can be integrated by adding them to the travel times $T_{ij}$ to their respective locations $(j)$. The time windows should also be adjusted to designate the earliest and latest finishing (ready) times for their respective activity by shifting $W_j$ by the appropriate $\\delta_j$. \n",
    "\n",
    "If the real-world task involves a multi-activity location $i$, it can be represented as a group of separate single-activity locations $i_1, i_2, \\dots$ with appropriate intra-group travel times $t_{i_{from}, i_{to}} = 0+\\delta_{i_{to}}$. Intra-group costs can be set to zero, or if the travel cost function includes a component unrelated to travel but related to the activity itself, a similar integration can be performed as in the case of travel times and activity durations. \n",
    "\n",
    "If the real-world task involves performing the same activity more than once (maybe in different locations or time-intervals), then this should be modelled as different activities.\n"
   ]
  },
  {
   "cell_type": "markdown",
   "metadata": {},
   "source": [
    "### ACO variants:\n",
    "Considering $\\forall i,j \\in \\mathcal{V}$:\n",
    "- **mACO**: Metric Activity Chain Optimization. E.g. Euclidean, Rectilinear or Maximum Cost mACO where $C_{ij} \\le C_{jk}+C_{ki}$ or Time-mACO where $T_{ij} \\le T_{jk}+T_{ki}$ or a combination of both spatial and temporal metricity.\n",
    "- **sACO**: Symmetric Activity Chain Optimization. $C_{ij}=C_{ji}$\n",
    "- **tACO**: Time-based Activity Chain Optimization. Has dynamic cost $C_{ij}=\\max \\lbrace T_{ij}, W^\\prime_j-t_i \\rbrace$\n",
    "- **rACO**: Routing Activity Chain Optimization for swarms or fleets with partially shared activity objectives.\n",
    "- any combination of the above"
   ]
  },
  {
   "cell_type": "markdown",
   "metadata": {},
   "source": [
    "# ACO model for Linear Programming"
   ]
  },
  {
   "cell_type": "markdown",
   "metadata": {},
   "source": [
    "Decision variables: let binaries $$x_{ij}$$ represent if directed edge $(i,j) \\in \\mathcal{E}$ is chosen in the tour. Also, let auxiliary binaries $y_i$ represent if vertex $i \\in \\mathcal{V}$ is chosen in the tour.\n",
    "\n",
    "Objective function: $$\\min \\sum_{(i,j) \\in \\mathcal{E}}{C_{ij}x_{ij}}$$\n",
    "Such that:\n",
    "$$\n",
    "\\begin{align}\n",
    "   \\sum_{(i,j) \\in \\mathcal{E}: j \\in \\mathcal{A_k}}{x_{ij}}\n",
    "&= \\sum_{(i,j) \\in \\mathcal{E}: i \\in \\mathcal{A_k}}{x_{ij}}\n",
    "= 1\n",
    "&& k \\in \\lbrace0,1,\\dots,m-1\\rbrace,\\\\\n",
    "   \\sum_{(i,j) \\in \\delta^+(i)}{x_{ij}}\n",
    "&= \\sum_{(j,i) \\in \\delta^-(i)}{x_{ji}}\n",
    "= y_i\n",
    "&& \\forall i \\in \\mathcal{V},\\\\\n",
    "   W^\\prime_iy_i &\\le t_i \\le W^{\\prime\\prime}_iy_i\n",
    "&& \\forall i \\in \\mathcal{V},\\\\\n",
    "   t_i-t_j+T_{ij}x_{ij} &\\le W^{\\prime\\prime}_iy_i - W^\\prime_jy_j - (W^{\\prime\\prime}_i - W^\\prime_j)x_{ij}\n",
    "&& \\forall (i,j) \\in \\mathcal{E},\\\\\n",
    "   y_i &\\in \\lbrace0,1\\rbrace\n",
    "&& \\forall i \\in \\mathcal{V},\\\\\n",
    "   x_{ij} &\\in \\lbrace0,1\\rbrace\n",
    "&& \\forall (i,j) \\in \\mathcal{E}\\\\\n",
    "\\end{align}\n",
    "$$"
   ]
  },
  {
   "cell_type": "markdown",
   "metadata": {},
   "source": [
    "### tACO model for LP\n",
    "Same as above but with objective function: $$\\min \\sum_{(i,j) \\in \\mathcal{E}}{\\left[\\left[\\max \\lbrace T_{ij}, W^\\prime_j-t_i \\rbrace\\right]x_{ij}\\right]}$$"
   ]
  },
  {
   "cell_type": "markdown",
   "metadata": {},
   "source": [
    "# A tACO exact solution algorithm based on Bellman-Held-Karp"
   ]
  },
  {
   "cell_type": "code",
   "execution_count": 1,
   "metadata": {},
   "outputs": [],
   "source": [
    "import numpy as np\n",
    "from typing import NamedTuple\n",
    "import itertools as it"
   ]
  },
  {
   "cell_type": "code",
   "execution_count": 2,
   "metadata": {},
   "outputs": [],
   "source": [
    "class SolutionLevel(NamedTuple):\n",
    "    # mandatory\n",
    "    level: int                        # 0 to m-1 incl.: how many non-home services are included\n",
    "    nof_sols: int                     # bounded by O(m_Choose_level * n)\n",
    "    configs: np.ndarray               # (nof_sols, m+1): l selected services out of m [T/F] and 1 destn. [citynum]\n",
    "    paths: np.ndarray                 # (nof_sols, n): each city has a sequence nr if it lies on the path, or 0\n",
    "    costs: np.ndarray                 # (nof_sols,)\n",
    "\n",
    "class ActivityChainProblem:\n",
    "    def __init__(self, tsp_graph, service_constraints=None, cost_at_arrival_constraints=None,\n",
    "                 start_cost=420, max_cost=1440):     # start at 7am and travel until 12pm at most\n",
    "        # Problem definition\n",
    "        self.graph = tsp_graph                       # (n,n): Asymmetric distances between cities (0 is home)\n",
    "        self.services = service_constraints          # (n,m): Boolean: does city n offer service m? (svc 0 is home)\n",
    "        self.arrivals = cost_at_arrival_constraints  # (n,2): [from_cost, to_cost]\n",
    "        if self.services is None:\n",
    "            self.services = np.identity(self.graph.shape[0])\n",
    "        if self.arrivals is None:\n",
    "            self.arrivals = np.zeros((self.graph.shape[0],2))\n",
    "            self.arrivals[:, 0] = start_cost\n",
    "            self.arrivals[:, 1] = max_cost\n",
    "        self.n = self.graph.shape[0]                 # nof cities\n",
    "        self.m = self.services.shape[1]              # nof services\n",
    "        self.start_cost = start_cost\n",
    "        self.max_cost = max_cost\n",
    "        assert self.graph.shape[0] == self.graph.shape[1]\n",
    "        assert self.graph.shape[0] == self.services.shape[0]\n",
    "        assert self.graph.shape[0] == self.arrivals.shape[0]\n",
    "        assert self.arrivals.shape[1] == 2\n",
    "        assert (self.graph >= 0).all()\n",
    "        assert (self.arrivals >= 0).all()\n",
    "        assert (self.arrivals[:,0] <= self.arrivals[:,1]).all()\n",
    "        assert self.start_cost <= self.max_cost\n",
    "        assert (np.sum(self.services, axis=1) == 1).all()  # for now we assume each city offers exactly 1 service\n",
    "        \n",
    "    def solve(self):\n",
    "        if self.n == 0 or self.m == 0:\n",
    "            print(\"Cannot solve empty problem.\")\n",
    "            return None\n",
    "        presol = self._presolution()\n",
    "        costs = presol.costs + self.graph[presol.configs[:, -1], 0]  # add cost of finally going back home\n",
    "        final_idxs = np.flatnonzero(costs == np.amin(costs))\n",
    "        final_cost = costs[final_idxs[0]]\n",
    "        final_paths = presol.paths.copy().astype(int)[final_idxs, :]\n",
    "        sorted_idxs = np.argsort(final_paths)\n",
    "        readable_paths = np.zeros((final_paths.shape[0], self.m+1)).astype(int)\n",
    "        for i in range(readable_paths.shape[0]):\n",
    "            k = 1\n",
    "            for j in range(sorted_idxs.shape[1]):\n",
    "                next_city_seqnum = final_paths[i, sorted_idxs[i,j]]\n",
    "                if next_city_seqnum > 0:\n",
    "                    readable_paths[i, k] = sorted_idxs[i,j]\n",
    "                    k += 1\n",
    "        if final_cost > self.max_cost:\n",
    "            print(f\"No solution found. Lowest cost {final_cost} exceeds limit {self.max_cost}.\")\n",
    "            return None\n",
    "        return readable_paths, final_cost\n",
    "        \n",
    "    def _presolution(self):\n",
    "        \"\"\"Modified Held-Karp algorithm.\n",
    "        Grows solutions starting with 1 non-home svc up to and including m-1 non-home services.\"\"\"\n",
    "        prev_level = None\n",
    "        next_level = self._zeroth_solution()\n",
    "        for i in range(1, self.m):\n",
    "            prev_level = next_level\n",
    "            next_level = self._next_solution(prev_level)\n",
    "            print(f\"Solved Level {next_level.level}: \\\n",
    "                  {next_level.nof_sols} partial solutions, \\\n",
    "                  minimum cost: {np.amin(next_level.costs)}\")\n",
    "        return next_level\n",
    "    \n",
    "    def _zeroth_solution(self):\n",
    "        configs = np.zeros((1, self.m+1))\n",
    "        configs[0, 0] = 1\n",
    "        return SolutionLevel(level=0, nof_sols=1,\n",
    "                             configs=np.array(configs, dtype=np.int32),\n",
    "                             paths=np.zeros((1, self.n), dtype=np.int32),\n",
    "                             costs=np.array([self.start_cost]))\n",
    "    \n",
    "    def _next_solution(self, prev):\n",
    "        level = prev.level + 1\n",
    "        nonhome_svcs = np.arange(1, self.m)\n",
    "        nonhome_dests = np.arange(1, self.n)\n",
    "        svc_combs = it.combinations(nonhome_svcs, level)\n",
    "        configs, paths, costs = None, None, None\n",
    "        for svc_comb in svc_combs:\n",
    "            svc_comb = np.asarray(svc_comb)\n",
    "            svc_comb_flags = np.zeros(self.m).astype(int)\n",
    "            svc_comb_flags[svc_comb] += 1\n",
    "            svc_comb_flags[0] += 1  # include home service as visited\n",
    "            # level == svcnum-1 == nof_svcs_intersecting_with_ancestors_among_previous\n",
    "            ancestor_flags = (level-np.sum(svc_comb_flags * prev.configs[:,:-1], axis=1) == 0)\n",
    "            ancestor_idxs = np.flatnonzero(ancestor_flags)\n",
    "            ancestor_configs = prev.configs[ancestor_idxs]\n",
    "            eligible_dests = np.sum(self.services[:, svc_comb], axis=1)\n",
    "            eligible_dests[0] = 0  # exclude home from destinations\n",
    "            eligible_dests = np.transpose(np.nonzero(eligible_dests))\n",
    "            svc_comb_block = svc_comb_flags * np.ones((eligible_dests.shape[0], svc_comb_flags.shape[0]))\n",
    "            configs_chunk = np.append(svc_comb_block, eligible_dests, axis=1).astype(int)\n",
    "            paths_chunk = np.zeros((configs_chunk.shape[0], self.n)).astype(int)\n",
    "            costs_chunk = np.ones(configs_chunk.shape[0]) * np.finfo(np.float32).max\n",
    "            for i in range(configs_chunk.shape[0]):\n",
    "                dest_city = configs_chunk[i, -1]\n",
    "                dest_svc = np.flatnonzero(self.services[dest_city])[0]  # first (and only) svc offered in city\n",
    "                parent_idxs = np.flatnonzero(ancestor_configs[:, dest_svc] == 0)\n",
    "                parent_dests = ancestor_configs[parent_idxs, -1]\n",
    "                parent_costs = prev.costs[ancestor_idxs[parent_idxs]]\n",
    "                laststep_costs = self.graph[parent_dests, dest_city]\n",
    "                total_parent_costs = parent_costs + laststep_costs\n",
    "                early_parents = total_parent_costs < self.arrivals[dest_city, 0]\n",
    "                total_parent_costs[early_parents] = self.arrivals[dest_city, 0]\n",
    "                late_parents = total_parent_costs > self.arrivals[dest_city, 1]\n",
    "                total_parent_costs[late_parents] = self.max_cost\n",
    "                best_parent_idx = np.argmin(total_parent_costs)  # TODO: here we forget other equally cheap paths\n",
    "                best_parent_cost = total_parent_costs[best_parent_idx]\n",
    "                best_parent_path = prev.paths[ancestor_idxs[parent_idxs[best_parent_idx]]]\n",
    "                costs_chunk[i] = best_parent_cost\n",
    "                paths_chunk[i] = best_parent_path.copy()\n",
    "                paths_chunk[i, dest_city] = level  # attach dest city to path (level-th)\n",
    "            if configs is None:\n",
    "                configs = configs_chunk\n",
    "                paths = paths_chunk\n",
    "                costs = costs_chunk\n",
    "            else:\n",
    "                configs = np.append(configs, configs_chunk, axis=0)\n",
    "                paths = np.append(paths, paths_chunk, axis=0)\n",
    "                costs = np.append(costs, costs_chunk, axis=0)\n",
    "        # print(f\"configs:\\n{configs}\")\n",
    "        # print(f\"paths:\\n{paths}\")\n",
    "        # print(f\"costs:\\n{costs}\")\n",
    "        nof_sols=configs.shape[0]\n",
    "        return SolutionLevel(level, nof_sols, configs, paths, costs)\n"
   ]
  },
  {
   "cell_type": "code",
   "execution_count": 3,
   "metadata": {},
   "outputs": [],
   "source": [
    "def test(aco):\n",
    "    print(f\"Solving for {aco.m} services in {aco.n} cities:\")\n",
    "    fin_paths, fin_cost = aco.solve()\n",
    "    print(f\"\\nFound at least {fin_paths.shape[0]} optimal path(s) at cost {fin_cost}\")\n",
    "    for path in fin_paths:\n",
    "        print(f\"\\t>> {path}\")"
   ]
  },
  {
   "cell_type": "code",
   "execution_count": 4,
   "metadata": {},
   "outputs": [],
   "source": [
    "def generate_dummy_01():\n",
    "    tsp_graph = np.array([[0, 5, 3, 2],\n",
    "                          [5, 0, 4, 1],\n",
    "                          [3, 4, 0, 2],\n",
    "                          [2, 1, 2, 0]])\n",
    "    service_constraints=None\n",
    "    cost_at_arrival_constraints=None\n",
    "    return ActivityChainProblem(tsp_graph, service_constraints, cost_at_arrival_constraints)"
   ]
  },
  {
   "cell_type": "code",
   "execution_count": 5,
   "metadata": {},
   "outputs": [],
   "source": [
    "def generate_dummy_02(size):\n",
    "    not_identity = -1 * (np.identity(size)-1)\n",
    "    tsp_graph = np.random.rand(size, size) * not_identity\n",
    "    service_constraints=None\n",
    "    cost_at_arrival_constraints=None\n",
    "    return ActivityChainProblem(tsp_graph, service_constraints, cost_at_arrival_constraints)"
   ]
  },
  {
   "cell_type": "code",
   "execution_count": 6,
   "metadata": {},
   "outputs": [],
   "source": [
    "def generate_dummy_03(size, nof_nonhome_svcs):\n",
    "    assert 0 < nof_nonhome_svcs < size\n",
    "    not_identity = -1 * (np.identity(size)-1)\n",
    "    tsp_graph = np.random.rand(size, size) * not_identity\n",
    "    service_constraints = np.zeros((size, nof_nonhome_svcs+1))\n",
    "    service_constraints[0, 0] = 1\n",
    "    district_borders = np.random.choice(np.arange(2, size), nof_nonhome_svcs-1, replace=False)\n",
    "    district_borders.sort()\n",
    "    for i in range(district_borders.shape[0]):\n",
    "        if i == 0:  # if first border\n",
    "            service_constraints[1:district_borders[i], i+1] = 1\n",
    "        if i == district_borders.shape[0]-1:  # if last border\n",
    "            service_constraints[district_borders[i]:, i+2] = 1\n",
    "        else:\n",
    "            service_constraints[district_borders[i]:district_borders[i+1], i+2] = 1\n",
    "    cost_at_arrival_constraints=None\n",
    "    return ActivityChainProblem(tsp_graph, service_constraints, cost_at_arrival_constraints)"
   ]
  },
  {
   "cell_type": "code",
   "execution_count": 7,
   "metadata": {},
   "outputs": [],
   "source": [
    "def generate_dummy_04(size, nof_nonhome_svcs):\n",
    "    assert 0 < nof_nonhome_svcs < size\n",
    "    not_identity = -1 * (np.identity(size)-1)\n",
    "    tsp_graph = np.random.rand(size, size) * not_identity\n",
    "    service_constraints = np.zeros((size, nof_nonhome_svcs+1))\n",
    "    service_constraints[0, 0] = 1\n",
    "    district_borders = np.random.choice(np.arange(2, size), nof_nonhome_svcs-1, replace=False)\n",
    "    district_borders.sort()\n",
    "    for i in range(district_borders.shape[0]):\n",
    "        if i == 0:  # if first border\n",
    "            service_constraints[1:district_borders[i], i+1] = 1\n",
    "        if i == district_borders.shape[0]-1:  # if last border\n",
    "            service_constraints[district_borders[i]:, i+2] = 1\n",
    "        else:\n",
    "            service_constraints[district_borders[i]:district_borders[i+1], i+2] = 1\n",
    "    cost_at_arrival_constraints = np.random.choice(np.arange(420, 1440), size*2).reshape(size, 2)\n",
    "    cost_at_arrival_constraints.sort(axis=1)\n",
    "    return ActivityChainProblem(tsp_graph, service_constraints, cost_at_arrival_constraints)"
   ]
  },
  {
   "cell_type": "code",
   "execution_count": 8,
   "metadata": {},
   "outputs": [
    {
     "name": "stdout",
     "output_type": "stream",
     "text": [
      "Solving for 4 services in 4 cities:\n",
      "Solved Level 1:                   3 partial solutions,                   minimum cost: 422.0\n",
      "Solved Level 2:                   6 partial solutions,                   minimum cost: 423.0\n",
      "Solved Level 3:                   3 partial solutions,                   minimum cost: 426.0\n",
      "\n",
      "Found at least 2 optimal path(s) at cost 430.0\n",
      "\t>> [0 3 1 2 0]\n",
      "\t>> [0 2 1 3 0]\n",
      "CPU times: user 4 ms, sys: 0 ns, total: 4 ms\n",
      "Wall time: 3.42 ms\n"
     ]
    }
   ],
   "source": [
    "aco = generate_dummy_01()\n",
    "%time test(aco)"
   ]
  },
  {
   "cell_type": "code",
   "execution_count": 10,
   "metadata": {},
   "outputs": [
    {
     "name": "stdout",
     "output_type": "stream",
     "text": [
      "Solving for 15 services in 15 cities:\n",
      "Solved Level 1:                   14 partial solutions,                   minimum cost: 420.0258858589849\n",
      "Solved Level 2:                   182 partial solutions,                   minimum cost: 420.0384976457378\n",
      "Solved Level 3:                   1092 partial solutions,                   minimum cost: 420.0988650456003\n",
      "Solved Level 4:                   4004 partial solutions,                   minimum cost: 420.10698569377115\n",
      "Solved Level 5:                   10010 partial solutions,                   minimum cost: 420.15934532918055\n",
      "Solved Level 6:                   18018 partial solutions,                   minimum cost: 420.1671633991997\n",
      "Solved Level 7:                   24024 partial solutions,                   minimum cost: 420.1922115725754\n",
      "Solved Level 8:                   24024 partial solutions,                   minimum cost: 420.2253613584928\n",
      "Solved Level 9:                   18018 partial solutions,                   minimum cost: 420.231446576453\n",
      "Solved Level 10:                   10010 partial solutions,                   minimum cost: 420.2570100496791\n",
      "Solved Level 11:                   4004 partial solutions,                   minimum cost: 420.3068949079369\n",
      "Solved Level 12:                   1092 partial solutions,                   minimum cost: 420.5186931294557\n",
      "Solved Level 13:                   182 partial solutions,                   minimum cost: 420.60623902071046\n",
      "Solved Level 14:                   14 partial solutions,                   minimum cost: 420.81803724222925\n",
      "\n",
      "Found at least 1 optimal path(s) at cost 421.01930654210713\n",
      "\t>> [ 0  8  1 14  3 13  7  4  2 12  5 10  6 11  9  0]\n",
      "CPU times: user 41 s, sys: 912 ms, total: 41.9 s\n",
      "Wall time: 22.3 s\n"
     ]
    }
   ],
   "source": [
    "aco = generate_dummy_02(15)\n",
    "%time test(aco)"
   ]
  },
  {
   "cell_type": "code",
   "execution_count": 11,
   "metadata": {},
   "outputs": [
    {
     "name": "stdout",
     "output_type": "stream",
     "text": [
      "Solving for 8 services in 1000 cities:\n",
      "Solved Level 1:                   999 partial solutions,                   minimum cost: 420.00040865148947\n",
      "Solved Level 2:                   5994 partial solutions,                   minimum cost: 420.00153976311225\n",
      "Solved Level 3:                   14985 partial solutions,                   minimum cost: 420.0029745881421\n",
      "Solved Level 4:                   19980 partial solutions,                   minimum cost: 420.00609727507555\n",
      "Solved Level 5:                   14985 partial solutions,                   minimum cost: 420.0087637984376\n",
      "Solved Level 6:                   5994 partial solutions,                   minimum cost: 420.0167564066184\n",
      "Solved Level 7:                   999 partial solutions,                   minimum cost: 420.0230588909535\n",
      "\n",
      "Found at least 1 optimal path(s) at cost 420.0382473909691\n",
      "\t>> [  0 489 111  17 322 360  64  12   0]\n",
      "CPU times: user 21.2 s, sys: 5.15 s, total: 26.3 s\n",
      "Wall time: 6.8 s\n"
     ]
    }
   ],
   "source": [
    "aco = generate_dummy_03(1000, 7)\n",
    "%time test(aco)"
   ]
  },
  {
   "cell_type": "code",
   "execution_count": 12,
   "metadata": {},
   "outputs": [
    {
     "name": "stdout",
     "output_type": "stream",
     "text": [
      "Solving for 8 services in 1000 cities:\n",
      "Solved Level 1:                   999 partial solutions,                   minimum cost: 420.0726117661195\n",
      "Solved Level 2:                   5994 partial solutions,                   minimum cost: 420.176358835299\n",
      "Solved Level 3:                   14985 partial solutions,                   minimum cost: 420.6751403770738\n",
      "Solved Level 4:                   19980 partial solutions,                   minimum cost: 424.0\n",
      "Solved Level 5:                   14985 partial solutions,                   minimum cost: 424.3200823758754\n",
      "Solved Level 6:                   5994 partial solutions,                   minimum cost: 457.0\n",
      "Solved Level 7:                   999 partial solutions,                   minimum cost: 460.0\n",
      "\n",
      "Found at least 1 optimal path(s) at cost 460.1162780598227\n",
      "\t>> [  0 662 367   5 142 617 955  20   0]\n",
      "CPU times: user 12.5 s, sys: 2.46 s, total: 15 s\n",
      "Wall time: 3.82 s\n"
     ]
    }
   ],
   "source": [
    "aco = generate_dummy_04(1000, 7)\n",
    "%time test(aco)"
   ]
  }
 ],
 "metadata": {
  "kernelspec": {
   "display_name": "Python 3",
   "language": "python",
   "name": "python3"
  },
  "language_info": {
   "codemirror_mode": {
    "name": "ipython",
    "version": 3
   },
   "file_extension": ".py",
   "mimetype": "text/x-python",
   "name": "python",
   "nbconvert_exporter": "python",
   "pygments_lexer": "ipython3",
   "version": "3.6.5"
  }
 },
 "nbformat": 4,
 "nbformat_minor": 2
}
