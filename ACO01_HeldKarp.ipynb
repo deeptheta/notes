{
 "cells": [
  {
   "cell_type": "markdown",
   "metadata": {},
   "source": [
    "# Activity Chain Optimization - exact solution with modified Held-Karp"
   ]
  },
  {
   "cell_type": "code",
   "execution_count": 3,
   "metadata": {},
   "outputs": [],
   "source": [
    "import numpy as np\n",
    "from typing import NamedTuple\n",
    "import itertools as it"
   ]
  },
  {
   "cell_type": "code",
   "execution_count": 301,
   "metadata": {},
   "outputs": [],
   "source": [
    "class SolutionLevel(NamedTuple):\n",
    "    # mandatory\n",
    "    level: int                        # 0 to m-1 incl.: how many non-home services are included\n",
    "    nof_sols: int                     # bounded by O(m_Choose_level * n)\n",
    "    configs: np.ndarray               # (nof_sols, m+1): l selected services out of m [T/F] and 1 destn. [citynum]\n",
    "    paths: np.ndarray                 # (nof_sols, n): each city has a sequence nr if it lies on the path, or 0\n",
    "    costs: np.ndarray                 # (nof_sols,)\n",
    "\n",
    "class ActivityChainProblem:\n",
    "    def __init__(self, tsp_graph, service_constraints=None, cost_at_arrival_constraints=None,\n",
    "                 start_cost=420, max_cost=1440):     # start at 7am and travel until 12pm at most\n",
    "        # Problem definition\n",
    "        self.graph = tsp_graph                       # (n,n): Asymmetric distances between cities (0 is home)\n",
    "        self.services = service_constraints          # (n,m): Boolean: does city n offer service m? (svc 0 is home)\n",
    "        self.arrivals = cost_at_arrival_constraints  # (n,2): [from_cost, to_cost]\n",
    "        if self.services is None:\n",
    "            self.services = np.identity(self.graph.shape[0])\n",
    "        if self.arrivals is None:\n",
    "            self.arrivals = np.zeros((self.graph.shape[0],2))\n",
    "            self.arrivals[:, 0] = start_cost\n",
    "            self.arrivals[:, 1] = max_cost\n",
    "        self.n = self.graph.shape[0]                 # nof cities\n",
    "        self.m = self.services.shape[1]              # nof services\n",
    "        self.start_cost = start_cost\n",
    "        self.max_cost = max_cost\n",
    "        assert self.graph.shape[0] == self.graph.shape[1]\n",
    "        assert self.graph.shape[0] == self.services.shape[0]\n",
    "        assert self.graph.shape[0] == self.arrivals.shape[0]\n",
    "        assert self.arrivals.shape[1] == 2\n",
    "        assert (self.graph >= 0).all()\n",
    "        assert (self.arrivals >= 0).all()\n",
    "        assert (self.arrivals[:,0] <= self.arrivals[:,1]).all()\n",
    "        assert self.start_cost <= self.max_cost\n",
    "        assert (np.sum(self.services, axis=1) == 1).all()  # for now we assume each city offers exactly 1 service\n",
    "        \n",
    "    def solve(self):\n",
    "        if self.n == 0 or self.m == 0:\n",
    "            print(\"Cannot solve empty problem.\")\n",
    "            return None\n",
    "        presol = self._presolution()\n",
    "        costs = presol.costs + self.graph[presol.configs[:, -1], 0]  # add cost of finally going back home\n",
    "        final_idxs = np.flatnonzero(costs == np.amin(costs))\n",
    "        final_cost = costs[final_idxs[0]]\n",
    "        final_paths = presol.paths.copy().astype(int)[final_idxs, :]\n",
    "        sorted_idxs = np.argsort(final_paths)\n",
    "        readable_paths = np.zeros((final_paths.shape[0], self.m+1)).astype(int)\n",
    "        for i in range(readable_paths.shape[0]):\n",
    "            k = 1\n",
    "            for j in range(sorted_idxs.shape[1]):\n",
    "                next_city_seqnum = final_paths[i, sorted_idxs[i,j]]\n",
    "                if next_city_seqnum > 0:\n",
    "                    readable_paths[i, k] = sorted_idxs[i,j]\n",
    "                    k += 1\n",
    "        if final_cost > self.max_cost:\n",
    "            print(f\"No solution found. Lowest cost {final_cost} exceeds limit {self.max_cost}.\")\n",
    "            return None\n",
    "        return readable_paths, final_cost\n",
    "        \n",
    "    def _presolution(self):\n",
    "        \"\"\"Modified Held-Karp algorithm.\n",
    "        Grows solutions starting with 1 non-home svc up to and including m-1 non-home services.\"\"\"\n",
    "        prev_level = None\n",
    "        next_level = self._zeroth_solution()\n",
    "        for i in range(1, self.m):\n",
    "            prev_level = next_level\n",
    "            next_level = self._next_solution(prev_level)\n",
    "            print(f\"Solved Level {next_level.level}: \\\n",
    "                  {next_level.nof_sols} partial solutions, \\\n",
    "                  minimum cost: {np.amin(next_level.costs)}\")\n",
    "        return next_level\n",
    "    \n",
    "    def _zeroth_solution(self):\n",
    "        configs = np.zeros((1, self.m+1))\n",
    "        configs[0, 0] = 1\n",
    "        return SolutionLevel(level=0, nof_sols=1,\n",
    "                             configs=np.array(configs, dtype=np.int32),\n",
    "                             paths=np.zeros((1, self.n), dtype=np.int32),\n",
    "                             costs=np.array([self.start_cost]))\n",
    "    \n",
    "    def _next_solution(self, prev):\n",
    "        level = prev.level + 1\n",
    "        nonhome_svcs = np.arange(1, self.m)\n",
    "        nonhome_dests = np.arange(1, self.n)\n",
    "        svc_combs = it.combinations(nonhome_svcs, level)\n",
    "        configs, paths, costs = None, None, None\n",
    "        for svc_comb in svc_combs:\n",
    "            svc_comb = np.asarray(svc_comb)\n",
    "            svc_comb_flags = np.zeros(self.m).astype(int)\n",
    "            svc_comb_flags[svc_comb] += 1\n",
    "            svc_comb_flags[0] += 1  # include home service as visited\n",
    "            # level == svcnum-1 == nof_svcs_intersecting_with_ancestors_among_previous\n",
    "            ancestor_flags = (level-np.sum(svc_comb_flags * prev.configs[:,:-1], axis=1) == 0)\n",
    "            ancestor_idxs = np.flatnonzero(ancestor_flags)\n",
    "            ancestor_configs = prev.configs[ancestor_idxs]\n",
    "            eligible_dests = np.sum(self.services[:, svc_comb], axis=1)\n",
    "            eligible_dests[0] = 0  # exclude home from destinations\n",
    "            eligible_dests = np.transpose(np.nonzero(eligible_dests))\n",
    "            svc_comb_block = svc_comb_flags * np.ones((eligible_dests.shape[0], svc_comb_flags.shape[0]))\n",
    "            configs_chunk = np.append(svc_comb_block, eligible_dests, axis=1).astype(int)\n",
    "            paths_chunk = np.zeros((configs_chunk.shape[0], self.n)).astype(int)\n",
    "            costs_chunk = np.ones(configs_chunk.shape[0]) * np.finfo(np.float32).max\n",
    "            for i in range(configs_chunk.shape[0]):\n",
    "                dest_city = configs_chunk[i, -1]\n",
    "                dest_svc = np.flatnonzero(self.services[dest_city])[0]  # first (and only) svc offered in city\n",
    "                parent_idxs = np.flatnonzero(ancestor_configs[:, dest_svc] == 0)\n",
    "                parent_dests = ancestor_configs[parent_idxs, -1]\n",
    "                parent_costs = prev.costs[ancestor_idxs[parent_idxs]]\n",
    "                laststep_costs = self.graph[parent_dests, dest_city]\n",
    "                total_parent_costs = parent_costs + laststep_costs\n",
    "                early_parents = total_parent_costs < self.arrivals[dest_city, 0]\n",
    "                total_parent_costs[early_parents] = self.arrivals[dest_city, 0]\n",
    "                late_parents = total_parent_costs > self.arrivals[dest_city, 1]\n",
    "                total_parent_costs[late_parents] = self.max_cost\n",
    "                best_parent_idx = np.argmin(total_parent_costs)  # TODO: here we forget other equally cheap paths\n",
    "                best_parent_cost = total_parent_costs[best_parent_idx]\n",
    "                best_parent_path = prev.paths[ancestor_idxs[parent_idxs[best_parent_idx]]]\n",
    "                costs_chunk[i] = best_parent_cost\n",
    "                paths_chunk[i] = best_parent_path.copy()\n",
    "                paths_chunk[i, dest_city] = level  # attach dest city to path (level-th)\n",
    "            if configs is None:\n",
    "                configs = configs_chunk\n",
    "                paths = paths_chunk\n",
    "                costs = costs_chunk\n",
    "            else:\n",
    "                configs = np.append(configs, configs_chunk, axis=0)\n",
    "                paths = np.append(paths, paths_chunk, axis=0)\n",
    "                costs = np.append(costs, costs_chunk, axis=0)\n",
    "        # print(f\"configs:\\n{configs}\")\n",
    "        # print(f\"paths:\\n{paths}\")\n",
    "        # print(f\"costs:\\n{costs}\")\n",
    "        nof_sols=configs.shape[0]\n",
    "        return SolutionLevel(level, nof_sols, configs, paths, costs)\n"
   ]
  },
  {
   "cell_type": "code",
   "execution_count": 302,
   "metadata": {},
   "outputs": [],
   "source": [
    "def test(aco):\n",
    "    print(f\"Solving for {aco.m} services in {aco.n} cities:\")\n",
    "    fin_paths, fin_cost = aco.solve()\n",
    "    print(f\"\\nFound at least {fin_paths.shape[0]} optimal path(s) at cost {fin_cost}\")\n",
    "    for path in fin_paths:\n",
    "        print(f\"\\t>> {path}\")"
   ]
  },
  {
   "cell_type": "code",
   "execution_count": 303,
   "metadata": {},
   "outputs": [],
   "source": [
    "def generate_dummy_01():\n",
    "    tsp_graph = np.array([[0, 5, 3, 2],\n",
    "                          [5, 0, 4, 1],\n",
    "                          [3, 4, 0, 2],\n",
    "                          [2, 1, 2, 0]])\n",
    "    service_constraints=None\n",
    "    cost_at_arrival_constraints=None\n",
    "    return ActivityChainProblem(tsp_graph, service_constraints, cost_at_arrival_constraints)"
   ]
  },
  {
   "cell_type": "code",
   "execution_count": 304,
   "metadata": {},
   "outputs": [],
   "source": [
    "def generate_dummy_02(size):\n",
    "    not_identity = -1 * (np.identity(size)-1)\n",
    "    tsp_graph = np.random.rand(size, size) * not_identity\n",
    "    service_constraints=None\n",
    "    cost_at_arrival_constraints=None\n",
    "    return ActivityChainProblem(tsp_graph, service_constraints, cost_at_arrival_constraints)"
   ]
  },
  {
   "cell_type": "code",
   "execution_count": 305,
   "metadata": {},
   "outputs": [],
   "source": [
    "def generate_dummy_03(size, nof_nonhome_svcs):\n",
    "    assert 0 < nof_nonhome_svcs < size\n",
    "    not_identity = -1 * (np.identity(size)-1)\n",
    "    tsp_graph = np.random.rand(size, size) * not_identity\n",
    "    service_constraints = np.zeros((size, nof_nonhome_svcs+1))\n",
    "    service_constraints[0, 0] = 1\n",
    "    district_borders = np.random.choice(np.arange(2, size), nof_nonhome_svcs-1, replace=False)\n",
    "    district_borders.sort()\n",
    "    for i in range(district_borders.shape[0]):\n",
    "        if i == 0:  # if first border\n",
    "            service_constraints[1:district_borders[i], i+1] = 1\n",
    "        if i == district_borders.shape[0]-1:  # if last border\n",
    "            service_constraints[district_borders[i]:, i+2] = 1\n",
    "        else:\n",
    "            service_constraints[district_borders[i]:district_borders[i+1], i+2] = 1\n",
    "    cost_at_arrival_constraints=None\n",
    "    return ActivityChainProblem(tsp_graph, service_constraints, cost_at_arrival_constraints)"
   ]
  },
  {
   "cell_type": "code",
   "execution_count": 313,
   "metadata": {},
   "outputs": [],
   "source": [
    "def generate_dummy_04(size, nof_nonhome_svcs):\n",
    "    assert 0 < nof_nonhome_svcs < size\n",
    "    not_identity = -1 * (np.identity(size)-1)\n",
    "    tsp_graph = np.random.rand(size, size) * not_identity\n",
    "    service_constraints = np.zeros((size, nof_nonhome_svcs+1))\n",
    "    service_constraints[0, 0] = 1\n",
    "    district_borders = np.random.choice(np.arange(2, size), nof_nonhome_svcs-1, replace=False)\n",
    "    district_borders.sort()\n",
    "    for i in range(district_borders.shape[0]):\n",
    "        if i == 0:  # if first border\n",
    "            service_constraints[1:district_borders[i], i+1] = 1\n",
    "        if i == district_borders.shape[0]-1:  # if last border\n",
    "            service_constraints[district_borders[i]:, i+2] = 1\n",
    "        else:\n",
    "            service_constraints[district_borders[i]:district_borders[i+1], i+2] = 1\n",
    "    cost_at_arrival_constraints = np.random.choice(np.arange(420, 1440), size*2).reshape(size, 2)\n",
    "    cost_at_arrival_constraints.sort(axis=1)\n",
    "    return ActivityChainProblem(tsp_graph, service_constraints, cost_at_arrival_constraints)"
   ]
  },
  {
   "cell_type": "code",
   "execution_count": 315,
   "metadata": {},
   "outputs": [
    {
     "name": "stdout",
     "output_type": "stream",
     "text": [
      "Solving for 4 services in 4 cities:\n",
      "Solved Level 1:                   3 partial solutions,                   minimum cost: 422.0\n",
      "Solved Level 2:                   6 partial solutions,                   minimum cost: 423.0\n",
      "Solved Level 3:                   3 partial solutions,                   minimum cost: 426.0\n",
      "\n",
      "Found at least 2 optimal path(s) at cost 430.0\n",
      "\t>> [0 3 1 2 0]\n",
      "\t>> [0 2 1 3 0]\n",
      "CPU times: user 4 ms, sys: 0 ns, total: 4 ms\n",
      "Wall time: 2.84 ms\n"
     ]
    }
   ],
   "source": [
    "aco = generate_dummy_01()\n",
    "%time test(aco)"
   ]
  },
  {
   "cell_type": "code",
   "execution_count": 316,
   "metadata": {},
   "outputs": [
    {
     "name": "stdout",
     "output_type": "stream",
     "text": [
      "Solving for 14 services in 14 cities:\n",
      "Solved Level 1:                   13 partial solutions,                   minimum cost: 420.04617543816283\n",
      "Solved Level 2:                   156 partial solutions,                   minimum cost: 420.08759553227685\n",
      "Solved Level 3:                   858 partial solutions,                   minimum cost: 420.0959653886801\n",
      "Solved Level 4:                   2860 partial solutions,                   minimum cost: 420.1070149938053\n",
      "Solved Level 5:                   6435 partial solutions,                   minimum cost: 420.20200847599307\n",
      "Solved Level 6:                   10296 partial solutions,                   minimum cost: 420.2291785174202\n",
      "Solved Level 7:                   12012 partial solutions,                   minimum cost: 420.239621075936\n",
      "Solved Level 8:                   10296 partial solutions,                   minimum cost: 420.342860487175\n",
      "Solved Level 9:                   6435 partial solutions,                   minimum cost: 420.4457774548545\n",
      "Solved Level 10:                   2860 partial solutions,                   minimum cost: 420.61336408551153\n",
      "Solved Level 11:                   858 partial solutions,                   minimum cost: 420.8446515695421\n",
      "Solved Level 12:                   156 partial solutions,                   minimum cost: 420.9952545788101\n",
      "Solved Level 13:                   13 partial solutions,                   minimum cost: 421.2545614866518\n",
      "\n",
      "Found at least 1 optimal path(s) at cost 421.403340383344\n",
      "\t>> [ 0  5  9  8  4 11  1 12 10  2  7  3  6 13  0]\n",
      "CPU times: user 4.22 s, sys: 0 ns, total: 4.22 s\n",
      "Wall time: 4.24 s\n"
     ]
    }
   ],
   "source": [
    "aco = generate_dummy_02(14)\n",
    "%time test(aco)"
   ]
  },
  {
   "cell_type": "code",
   "execution_count": 317,
   "metadata": {},
   "outputs": [
    {
     "name": "stdout",
     "output_type": "stream",
     "text": [
      "Solving for 8 services in 1000 cities:\n",
      "Solved Level 1:                   999 partial solutions,                   minimum cost: 420.0015943258866\n",
      "Solved Level 2:                   5994 partial solutions,                   minimum cost: 420.00184291790265\n",
      "Solved Level 3:                   14985 partial solutions,                   minimum cost: 420.0040019213533\n",
      "Solved Level 4:                   19980 partial solutions,                   minimum cost: 420.0052691042377\n",
      "Solved Level 5:                   14985 partial solutions,                   minimum cost: 420.007295947574\n",
      "Solved Level 6:                   5994 partial solutions,                   minimum cost: 420.0125463004791\n",
      "Solved Level 7:                   999 partial solutions,                   minimum cost: 420.01744043845565\n",
      "\n",
      "Found at least 1 optimal path(s) at cost 420.03144933948346\n",
      "\t>> [  0 583 564 485 996 151  73 935   0]\n",
      "CPU times: user 10.1 s, sys: 2.41 s, total: 12.5 s\n",
      "Wall time: 3.2 s\n"
     ]
    }
   ],
   "source": [
    "aco = generate_dummy_03(1000, 7)\n",
    "%time test(aco)"
   ]
  },
  {
   "cell_type": "code",
   "execution_count": 320,
   "metadata": {},
   "outputs": [
    {
     "name": "stdout",
     "output_type": "stream",
     "text": [
      "Solving for 8 services in 1000 cities:\n",
      "Solved Level 1:                   999 partial solutions,                   minimum cost: 420.19317404184756\n",
      "Solved Level 2:                   5994 partial solutions,                   minimum cost: 420.2832182637197\n",
      "Solved Level 3:                   14985 partial solutions,                   minimum cost: 421.0\n",
      "Solved Level 4:                   19980 partial solutions,                   minimum cost: 421.022089320173\n",
      "Solved Level 5:                   14985 partial solutions,                   minimum cost: 421.13849606292916\n",
      "Solved Level 6:                   5994 partial solutions,                   minimum cost: 424.0\n",
      "Solved Level 7:                   999 partial solutions,                   minimum cost: 453.0\n",
      "\n",
      "Found at least 1 optimal path(s) at cost 453.1408885003228\n",
      "\t>> [  0 735 414 688  95  54 899 316   0]\n",
      "CPU times: user 11.3 s, sys: 2.14 s, total: 13.4 s\n",
      "Wall time: 3.46 s\n"
     ]
    }
   ],
   "source": [
    "aco = generate_dummy_04(1000, 7)\n",
    "%time test(aco)"
   ]
  }
 ],
 "metadata": {
  "kernelspec": {
   "display_name": "Python 3",
   "language": "python",
   "name": "python3"
  },
  "language_info": {
   "codemirror_mode": {
    "name": "ipython",
    "version": 3
   },
   "file_extension": ".py",
   "mimetype": "text/x-python",
   "name": "python",
   "nbconvert_exporter": "python",
   "pygments_lexer": "ipython3",
   "version": "3.6.5"
  }
 },
 "nbformat": 4,
 "nbformat_minor": 2
}
