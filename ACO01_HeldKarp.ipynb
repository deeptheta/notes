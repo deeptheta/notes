{
 "cells": [
  {
   "cell_type": "markdown",
   "metadata": {},
   "source": [
    "# Activity Chain Optimization"
   ]
  },
  {
   "cell_type": "markdown",
   "metadata": {},
   "source": [
    "### Problem description\n",
    "\n",
    "The Activity Chain Optimization (ACO) problem is a novel TSP variant that resembles the Generalizied Traveling Salesman Problem with Time Windows (GTSPTW). The GTSP is also called the Set-TSP, or sometimes the Traveling Politician Problem - and is not to be confused with Green-TSP.\n",
    "\n",
    "Informal description of the ACO problem: given a map of pairwise times and costs of travel between locations that each offer the possibility for exactly one type of activity within a given time-window, and given a starting time and location, find the cheapest tour that visits all required activites exactly once.\n",
    "\n",
    "Primary intended use-case: planning the daily commute of a person given well-defined preferences as well as temporal and spatial flexibility constraints. Might be most interesting as a trip-planning app for tourists."
   ]
  },
  {
   "cell_type": "markdown",
   "metadata": {},
   "source": [
    "### ACO formalized:\n",
    "Let $\\mathcal{G = (V, E)}$ be a directed graph, with location vertices $\\mathcal{V}=\\lbrace0,1,\\dots,n-1\\rbrace$ partitioned into $\\mathcal{A_0}=\\lbrace0\\rbrace,\\mathcal{A_1},\\dots,\\mathcal{A_{m-1}}$ disjunct non-empty activity clusters. Note that $m \\le n$ and $m,n \\in \\mathbb{N^+}$. Each directed edge $(i,j) \\in \\mathcal{E}$ corresponds to a cost $C_{ij}$ and a traveling time $T_{ij}$ between vertices $i$ and $j$ $(i,j \\in \\mathcal{V}, i \\ne j)$. It is both necessary and sufficient to define edges, costs and travel times between vertices belonging to different activity clusters only, i.e. $\\mathcal{E} = \\lbrace (i,j): i \\in \\mathcal{A_k}, j \\in \\mathcal{A_l}, k \\ne l\\rbrace$. Each location vertex $j$ is also assigned a time window $W_j = \\left[W^\\prime_j, W^{\\prime\\prime}_j\\right]$. The task is to find a finite-time minimum cost circuit starting from and ending at vertex $0$ (corresponding to a unique *\"home\"* activity and location), such that exactly one vertex of each activity cluster is visited and the arrival time $\\hat{t}_j$ at each visit either falls within the visited node's time window $W_j$ or precedes it. The recursive relation between $\\hat{t}_j$ arrival times (at node $j$) and $t_j$ ready times (ready for departure from node $j$) is as follows: \n",
    "\n",
    "For a given path described by the sequence of nodes $\\left< \\dots, i, j, \\dots \\right>$ where $(i,j) \\in \\mathcal{E}$:\n",
    "$$\n",
    "t_0 \\textrm{ is given}\\\\\n",
    "\\hat{t}_j = t_i + T_{ij}\\\\\n",
    "t_j = \\begin{cases}\n",
    "W^\\prime_j &\\textrm{if $\\hat{t}_j<W^\\prime_j$}\\\\\n",
    "\\hat{t}_j &\\textrm{if $W^\\prime_j \\le \\hat{t}_j \\le W^{\\prime\\prime}_j$}\\\\\n",
    "\\infty &\\textrm{otherwise}\\\\\n",
    "\\end{cases}\n",
    "$$\n",
    "\n",
    "$\\hat{t}_{0^\\prime}$ and $t_{0^\\prime}$ will denote arrival and ready times when returning to the home vertex (which may also have a time window) at the end of the circuit. Their calculation proceeds with the same recursive logic outlined above. Finding a finite-time solution means $t_{0^\\prime}<\\infty$.\n",
    "\n",
    "If the real-world task involves time-consuming activities that have a nonzero duration $\\delta>0$ ($\\delta$ may or may not be uniform throughout different locations for the same activity), these durations can be integrated by adding them to the travel times $T_{ij}$ to their respective locations $(j)$. The time windows should also be adjusted to designate the earliest and latest finishing (ready) times for their respective activity by shifting $W_j$ by the appropriate $\\delta_j$. \n",
    "\n",
    "If the real-world task involves a multi-activity location $i$, it can be represented as a group of separate single-activity locations $i_1, i_2, \\dots$ with appropriate intra-group travel times $t_{i_{from}, i_{to}} = 0+\\delta_{i_{to}}$. Intra-group costs can be set to zero, or if the travel cost function includes a component unrelated to travel but related to the activity itself, a similar integration can be performed as in the case of travel times and activity durations. \n",
    "\n",
    "If the real-world task involves performing the same activity more than once (maybe in different locations or time-intervals), then this should be modelled as different activities.\n"
   ]
  },
  {
   "cell_type": "markdown",
   "metadata": {},
   "source": [
    "### ACO variants:\n",
    "Considering $\\forall i,j,k \\in \\mathcal{V}$:\n",
    "- **mACO**: Metric Activity Chain Optimization. E.g. Euclidean, Rectilinear or Maximum Cost mACO where $C_{ij} \\le C_{jk}+C_{ki}$ or Time-mACO where $T_{ij} \\le T_{jk}+T_{ki}$ or a combination of both spatial and temporal metricity.\n",
    "- **sACO**: Symmetric Activity Chain Optimization. Cost symmetry $C_{ij}=C_{ji}$ or time symmetry $T_{ij}=T_{ji}$.\n",
    "- **tACO**: Time-based Activity Chain Optimization. Has dynamic cost $C_{ij}=\\max \\lbrace T_{ij}, W^\\prime_j-t_i \\rbrace$\n",
    "- **rACO**: Routing Activity Chain Optimization for swarms or fleets with partially shared activity objectives.\n",
    "- any combination of the above"
   ]
  },
  {
   "cell_type": "markdown",
   "metadata": {},
   "source": [
    "# ACO model"
   ]
  },
  {
   "cell_type": "markdown",
   "metadata": {},
   "source": [
    "Decision variables: let binaries $$x_{ij}$$ represent if directed edge $(i,j) \\in \\mathcal{E}$ is chosen in the tour. Also, let auxiliary binaries $y_i$ represent if vertex $i \\in \\mathcal{V}$ is chosen in the tour.\n",
    "\n",
    "Objective function: $$\\min \\sum_{(i,j) \\in \\mathcal{E}}{C_{ij}x_{ij}}$$\n",
    "Such that:\n",
    "$$\n",
    "\\begin{align}\n",
    "   \\sum_{(i,j) \\in \\mathcal{E}: j \\in \\mathcal{A_k}}{x_{ij}}\n",
    "&= \\sum_{(i,j) \\in \\mathcal{E}: i \\in \\mathcal{A_k}}{x_{ij}}\n",
    "= 1\n",
    "&& k \\in \\lbrace0,1,\\dots,m-1\\rbrace,\\\\\n",
    "   \\sum_{(i,j) \\in \\delta^+(i)}{x_{ij}}\n",
    "&= \\sum_{(j,i) \\in \\delta^-(i)}{x_{ji}}\n",
    "= y_i\n",
    "&& \\forall i \\in \\mathcal{V},\\\\\n",
    "   W^\\prime_iy_i &\\le t_i \\le W^{\\prime\\prime}_iy_i\n",
    "&& \\forall i \\in \\mathcal{V},\\\\\n",
    "   t_i-t_j+T_{ij}x_{ij} &\\le W^{\\prime\\prime}_iy_i - W^\\prime_jy_j - (W^{\\prime\\prime}_i - W^\\prime_j)x_{ij}\n",
    "&& \\forall (i,j) \\in \\mathcal{E},\\\\\n",
    "   y_i &\\in \\lbrace0,1\\rbrace\n",
    "&& \\forall i \\in \\mathcal{V},\\\\\n",
    "   x_{ij} &\\in \\lbrace0,1\\rbrace\n",
    "&& \\forall (i,j) \\in \\mathcal{E}\\\\\n",
    "\\end{align}\n",
    "$$"
   ]
  },
  {
   "cell_type": "markdown",
   "metadata": {},
   "source": [
    "For further polynomial and exponential families of inequalities, see: Yuan, Y., Cattaruzza, D., Ogier, M., & Semet, F. (n.d.). A branch-and-cut algorithm for the generalized traveling salesman problem with time windows. Retrieved from http://roadef2018.labsticc.fr/Roadef2018-Pdf/ROADEF2018_paper_071.pdf\n"
   ]
  },
  {
   "cell_type": "markdown",
   "metadata": {},
   "source": [
    "### tACO model\n",
    "Same as above but with objective function: $$\\min \\sum_{(i,j) \\in \\mathcal{E}}{\\left[\\left[\\max \\lbrace T_{ij}, W^\\prime_j-t_i \\rbrace\\right]x_{ij}\\right]}$$"
   ]
  },
  {
   "cell_type": "markdown",
   "metadata": {},
   "source": [
    "# A tACO exact solution algorithm based on Bellman-Held-Karp"
   ]
  },
  {
   "cell_type": "markdown",
   "metadata": {},
   "source": [
    "\n",
    "### Optimization invariant to observe in tACO:  \n",
    "\n",
    "**If there exists a solution, there must also exist a minimal solution for which every subsolution is also minimal**.\n",
    "\n",
    "Definition of **solution**: a finite-time ($t_{0^\\prime}<\\infty$) Hamiltonian circuit across all activities that obeys time-window constraints, starts at the home location $\\mathcal{A_0}=\\lbrace0\\rbrace$ and ends with a given $\\mathcal{A_{k>0}}$ activity before returning home.  \n",
    "Definition of **subsolution**: a subpath of the parent solution's path (or circuit) visiting a subset of the parent's activities and obeying time-window constraints. A subsolution may contain the home location $\\mathcal{A_0}=\\lbrace0\\rbrace$ only as the beginning or the end of the path.\n",
    "\n",
    "**Proof by contradiction:** if it weren't so, every minimal solution would have a subsolution that is not minimal. Let us assume this is true. Then, if we were to exchange the non-minimal subsolution path across the affected activities to a minimal one, the length of the parent solution would either shrink or remain the same (due to slackness in waiting for the time-window), meaning it either wasn't minimal in the first place, or if it was minimal, there is another minimal solution without the offending non-minimal subpath. This argument can be repeated recursively until we find a minimal solution whose subsolutions are all minimal, which again is in contradiction with the initial assumption. Since the assumption is impossible, the original claim about the optimization invariant must be true. **Q.E.D.**"
   ]
  },
  {
   "cell_type": "markdown",
   "metadata": {},
   "source": [
    "### Algorithm design\n",
    "\n",
    "Since one of the optimal solutions certainly has subsolutions that are all optimal as well, we can find this specific optimal solution by construction that observes the invariant at every step. We will use a forward dynamic programming approach based on the Bellman-Held-Karp algorithm iteratively expanding the length of optimal Hamiltonian paths from $0$ (home) to $m-1$ (all) visited activities. At each stage we will consider and store in memory all possible optimal subsolutions of length $l$, one for each possible combination of: $\\binom{m-1}{l}$ non-home activities combined with one final destination location chosen from those $l$ activity clusters.  \n",
    "Let the notation for a subsolution be: $$\\mathcal{S^{(l)}_d}\\left(\\mathcal{A^{(l)}_z}\\right)$$ for a set of chosen activities (set of clusters) $\\mathcal{A^{(l)}_z} = \\lbrace \\mathcal{A_{k_1}, A_{k_2}, \\dots, A_{k_l}} \\rbrace, k_x \\in \\lbrace1,2,\\dots,m-1\\rbrace, k_i \\ne k_{j \\ne i}, z = \\lbrace1,2,\\dots,\\binom{m-1}{l}\\rbrace$, having $l=\\lbrace0,1,\\dots,m-1\\rbrace$, $\\mathcal{A^{(0)}_1} = \\lbrace\\rbrace$, length $|\\mathcal{S^{(l)}_d}(\\mathcal{A^{(l)}_z})| = |\\mathcal{A^{(l)}_z}| = l$ and final destination $d \\in \\mathcal{A_x} \\in \\mathcal{A^{(l)}_z}$. By the optimization invariant we know that it is possible to construct optimal subsolutions such that all $\\mathcal{S^{(l)}_d}\\left(\\mathcal{A^{(l)}_z}\\right)$ will be recursively made up of an optimal sub-subsolution $\\mathcal{S^{(l-1)}_{d^\\prime}\\left(\\mathcal{A^{(l)}_z} \\setminus \\mathcal{A_{[d]}}\\right)}$ plus a last step that leads from $d^\\prime$ to location and activity $d \\in \\mathcal{A_{[d]}}$. That is, forward construction is possible by checking all the previous stage's (one step shorter) optimal subsolutions that do not yet contain the desired destination's activity but already contain all other required activities, extending them with the last step to destination and taking the minimum among all extended candidates. Once the growing optimal subsolutions reach the maximum length of $m-1$ steps, there will be $n-1$ such subsolutions with all activities selected and finishing destinations in each of the $n-1$ non-home vertices. The only thing that remains is to check these $n-1$ optimal subsolutions by extending their paths to return to the starting location (thus becoming circuits) and taking the minimum cost finite-time extended candidate as a final optimal solution.\n",
    "\n",
    "The asymptotic analysis of the proposed algorithm reveals:\n",
    "- runtime complexity: $O(2^mn^2)$\n",
    "- memory complexity: $O(2^mn)$\n",
    "\n",
    "Since in the practical use-cases $m \\ll n$, and typical values for $m$ range between 5 and 9, we can expect acceptable performance on most practical problem instances.\n",
    "\n",
    "Note that for progressive forward construction it is sufficient to store only the current and previous stages' subsolutions in memory."
   ]
  },
  {
   "cell_type": "markdown",
   "metadata": {},
   "source": [
    "# tACO exact solution implementation"
   ]
  },
  {
   "cell_type": "code",
   "execution_count": 1,
   "metadata": {},
   "outputs": [],
   "source": [
    "import numpy as np\n",
    "from typing import NamedTuple\n",
    "import itertools as it"
   ]
  },
  {
   "cell_type": "code",
   "execution_count": 2,
   "metadata": {},
   "outputs": [],
   "source": [
    "class SolutionLevel(NamedTuple):\n",
    "    # mandatory\n",
    "    level: int                        # 0 to m-1 incl.: how many non-home services are included\n",
    "    nof_sols: int                     # bounded by O(m_Choose_level * n)\n",
    "    configs: np.ndarray               # (nof_sols, m+1): l selected services out of m [T/F] and 1 destn. [citynum]\n",
    "    paths: np.ndarray                 # (nof_sols, n): each city has a sequence nr if it lies on the path, or 0\n",
    "    costs: np.ndarray                 # (nof_sols,)\n",
    "\n",
    "class ActivityChainProblem:\n",
    "    def __init__(self, tsp_graph, service_constraints=None, cost_at_arrival_constraints=None,\n",
    "                 start_cost=420, max_cost=1440):     # start at 7am and travel until 12pm at most\n",
    "        # Problem definition\n",
    "        self.graph = tsp_graph                       # (n,n): Asymmetric distances between cities (0 is home)\n",
    "        self.services = service_constraints          # (n,m): Boolean: does city n offer service m? (svc 0 is home)\n",
    "        self.arrivals = cost_at_arrival_constraints  # (n,2): [from_cost, to_cost]\n",
    "        if self.services is None:\n",
    "            self.services = np.identity(self.graph.shape[0])\n",
    "        if self.arrivals is None:\n",
    "            self.arrivals = np.zeros((self.graph.shape[0],2))\n",
    "            self.arrivals[:, 0] = start_cost\n",
    "            self.arrivals[:, 1] = max_cost\n",
    "        self.n = self.graph.shape[0]                 # nof cities\n",
    "        self.m = self.services.shape[1]              # nof services\n",
    "        self.start_cost = start_cost\n",
    "        self.max_cost = max_cost\n",
    "        assert self.graph.shape[0] == self.graph.shape[1]\n",
    "        assert self.graph.shape[0] == self.services.shape[0]\n",
    "        assert self.graph.shape[0] == self.arrivals.shape[0]\n",
    "        assert self.arrivals.shape[1] == 2\n",
    "        assert (self.graph >= 0).all()\n",
    "        assert (self.arrivals >= 0).all()\n",
    "        assert (self.arrivals[:,0] <= self.arrivals[:,1]).all()\n",
    "        assert self.start_cost <= self.max_cost\n",
    "        assert (np.sum(self.services, axis=1) == 1).all()  # for now we assume each city offers exactly 1 service\n",
    "        \n",
    "    def solve(self):\n",
    "        if self.n == 0 or self.m == 0:\n",
    "            print(\"Cannot solve empty problem.\")\n",
    "            return None\n",
    "        presol = self._presolution()\n",
    "        costs = presol.costs + self.graph[presol.configs[:, -1], 0]  # add cost of finally going back home\n",
    "        final_idxs = np.flatnonzero(costs == np.amin(costs))\n",
    "        final_cost = costs[final_idxs[0]]\n",
    "        final_paths = presol.paths.copy().astype(int)[final_idxs, :]\n",
    "        sorted_idxs = np.argsort(final_paths)\n",
    "        readable_paths = np.zeros((final_paths.shape[0], self.m+1)).astype(int)\n",
    "        for i in range(readable_paths.shape[0]):\n",
    "            k = 1\n",
    "            for j in range(sorted_idxs.shape[1]):\n",
    "                next_city_seqnum = final_paths[i, sorted_idxs[i,j]]\n",
    "                if next_city_seqnum > 0:\n",
    "                    readable_paths[i, k] = sorted_idxs[i,j]\n",
    "                    k += 1\n",
    "        if final_cost > self.max_cost:\n",
    "            print(f\"No solution found. Lowest cost {final_cost} exceeds limit {self.max_cost}.\")\n",
    "            return None\n",
    "        return readable_paths, final_cost\n",
    "        \n",
    "    def _presolution(self):\n",
    "        \"\"\"Modified Held-Karp algorithm.\n",
    "        Grows solutions starting with 1 non-home svc up to and including m-1 non-home services.\"\"\"\n",
    "        prev_level = None\n",
    "        next_level = self._zeroth_solution()\n",
    "        for i in range(1, self.m):\n",
    "            prev_level = next_level\n",
    "            next_level = self._next_solution(prev_level)\n",
    "            print(f\"Solved Level {next_level.level}: \\\n",
    "                  {next_level.nof_sols} partial solutions, \\\n",
    "                  minimum cost: {np.amin(next_level.costs)}\")\n",
    "        return next_level\n",
    "    \n",
    "    def _zeroth_solution(self):\n",
    "        configs = np.zeros((1, self.m+1))\n",
    "        configs[0, 0] = 1\n",
    "        return SolutionLevel(level=0, nof_sols=1,\n",
    "                             configs=np.array(configs, dtype=np.int32),\n",
    "                             paths=np.zeros((1, self.n), dtype=np.int32),\n",
    "                             costs=np.array([self.start_cost]))\n",
    "    \n",
    "    def _next_solution(self, prev):\n",
    "        level = prev.level + 1\n",
    "        nonhome_svcs = np.arange(1, self.m)\n",
    "        nonhome_dests = np.arange(1, self.n)\n",
    "        svc_combs = it.combinations(nonhome_svcs, level)\n",
    "        configs, paths, costs = None, None, None\n",
    "        for svc_comb in svc_combs:\n",
    "            svc_comb = np.asarray(svc_comb)\n",
    "            svc_comb_flags = np.zeros(self.m).astype(int)\n",
    "            svc_comb_flags[svc_comb] += 1\n",
    "            svc_comb_flags[0] += 1  # include home service as visited\n",
    "            # level == svcnum-1 == nof_svcs_intersecting_with_ancestors_among_previous\n",
    "            ancestor_flags = (level-np.sum(svc_comb_flags * prev.configs[:,:-1], axis=1) == 0)\n",
    "            ancestor_idxs = np.flatnonzero(ancestor_flags)\n",
    "            ancestor_configs = prev.configs[ancestor_idxs]\n",
    "            eligible_dests = np.sum(self.services[:, svc_comb], axis=1)\n",
    "            eligible_dests[0] = 0  # exclude home from destinations\n",
    "            eligible_dests = np.transpose(np.nonzero(eligible_dests))\n",
    "            svc_comb_block = svc_comb_flags * np.ones((eligible_dests.shape[0], svc_comb_flags.shape[0]))\n",
    "            configs_chunk = np.append(svc_comb_block, eligible_dests, axis=1).astype(int)\n",
    "            paths_chunk = np.zeros((configs_chunk.shape[0], self.n)).astype(int)\n",
    "            costs_chunk = np.ones(configs_chunk.shape[0]) * np.finfo(np.float32).max\n",
    "            for i in range(configs_chunk.shape[0]):\n",
    "                dest_city = configs_chunk[i, -1]\n",
    "                dest_svc = np.flatnonzero(self.services[dest_city])[0]  # first (and only) svc offered in city\n",
    "                parent_idxs = np.flatnonzero(ancestor_configs[:, dest_svc] == 0)\n",
    "                parent_dests = ancestor_configs[parent_idxs, -1]\n",
    "                parent_costs = prev.costs[ancestor_idxs[parent_idxs]]\n",
    "                laststep_costs = self.graph[parent_dests, dest_city]\n",
    "                total_parent_costs = parent_costs + laststep_costs\n",
    "                early_parents = total_parent_costs < self.arrivals[dest_city, 0]\n",
    "                total_parent_costs[early_parents] = self.arrivals[dest_city, 0]\n",
    "                late_parents = total_parent_costs > self.arrivals[dest_city, 1]\n",
    "                total_parent_costs[late_parents] = self.max_cost\n",
    "                best_parent_idx = np.argmin(total_parent_costs)  # TODO: here we forget other equally cheap paths\n",
    "                best_parent_cost = total_parent_costs[best_parent_idx]\n",
    "                best_parent_path = prev.paths[ancestor_idxs[parent_idxs[best_parent_idx]]]\n",
    "                costs_chunk[i] = best_parent_cost\n",
    "                paths_chunk[i] = best_parent_path.copy()\n",
    "                paths_chunk[i, dest_city] = level  # attach dest city to path (level-th)\n",
    "            if configs is None:\n",
    "                configs = configs_chunk\n",
    "                paths = paths_chunk\n",
    "                costs = costs_chunk\n",
    "            else:\n",
    "                configs = np.append(configs, configs_chunk, axis=0)\n",
    "                paths = np.append(paths, paths_chunk, axis=0)\n",
    "                costs = np.append(costs, costs_chunk, axis=0)\n",
    "        # print(f\"configs:\\n{configs}\")\n",
    "        # print(f\"paths:\\n{paths}\")\n",
    "        # print(f\"costs:\\n{costs}\")\n",
    "        nof_sols=configs.shape[0]\n",
    "        return SolutionLevel(level, nof_sols, configs, paths, costs)\n"
   ]
  },
  {
   "cell_type": "code",
   "execution_count": 3,
   "metadata": {},
   "outputs": [],
   "source": [
    "def test(aco):\n",
    "    print(f\"Solving for {aco.m} services in {aco.n} cities:\")\n",
    "    fin_paths, fin_cost = aco.solve()\n",
    "    print(f\"\\nFound at least {fin_paths.shape[0]} optimal path(s) at cost {fin_cost}\")\n",
    "    for path in fin_paths:\n",
    "        print(f\"\\t>> {path}\")"
   ]
  },
  {
   "cell_type": "code",
   "execution_count": 4,
   "metadata": {},
   "outputs": [],
   "source": [
    "def generate_dummy_01():\n",
    "    tsp_graph = np.array([[0, 5, 3, 2],\n",
    "                          [5, 0, 4, 1],\n",
    "                          [3, 4, 0, 2],\n",
    "                          [2, 1, 2, 0]])\n",
    "    service_constraints=None\n",
    "    cost_at_arrival_constraints=None\n",
    "    return ActivityChainProblem(tsp_graph, service_constraints, cost_at_arrival_constraints)"
   ]
  },
  {
   "cell_type": "code",
   "execution_count": 5,
   "metadata": {},
   "outputs": [],
   "source": [
    "def generate_dummy_02(size):\n",
    "    not_identity = -1 * (np.identity(size)-1)\n",
    "    tsp_graph = np.random.rand(size, size) * not_identity\n",
    "    service_constraints=None\n",
    "    cost_at_arrival_constraints=None\n",
    "    return ActivityChainProblem(tsp_graph, service_constraints, cost_at_arrival_constraints)"
   ]
  },
  {
   "cell_type": "code",
   "execution_count": 6,
   "metadata": {},
   "outputs": [],
   "source": [
    "def generate_dummy_03(size, nof_nonhome_svcs):\n",
    "    assert 0 < nof_nonhome_svcs < size\n",
    "    not_identity = -1 * (np.identity(size)-1)\n",
    "    tsp_graph = np.random.rand(size, size) * not_identity\n",
    "    service_constraints = np.zeros((size, nof_nonhome_svcs+1))\n",
    "    service_constraints[0, 0] = 1\n",
    "    district_borders = np.random.choice(np.arange(2, size), nof_nonhome_svcs-1, replace=False)\n",
    "    district_borders.sort()\n",
    "    for i in range(district_borders.shape[0]):\n",
    "        if i == 0:  # if first border\n",
    "            service_constraints[1:district_borders[i], i+1] = 1\n",
    "        if i == district_borders.shape[0]-1:  # if last border\n",
    "            service_constraints[district_borders[i]:, i+2] = 1\n",
    "        else:\n",
    "            service_constraints[district_borders[i]:district_borders[i+1], i+2] = 1\n",
    "    cost_at_arrival_constraints=None\n",
    "    return ActivityChainProblem(tsp_graph, service_constraints, cost_at_arrival_constraints)"
   ]
  },
  {
   "cell_type": "code",
   "execution_count": 7,
   "metadata": {},
   "outputs": [],
   "source": [
    "def generate_dummy_04(size, nof_nonhome_svcs):\n",
    "    assert 0 < nof_nonhome_svcs < size\n",
    "    not_identity = -1 * (np.identity(size)-1)\n",
    "    tsp_graph = np.random.rand(size, size) * not_identity\n",
    "    service_constraints = np.zeros((size, nof_nonhome_svcs+1))\n",
    "    service_constraints[0, 0] = 1\n",
    "    district_borders = np.random.choice(np.arange(2, size), nof_nonhome_svcs-1, replace=False)\n",
    "    district_borders.sort()\n",
    "    for i in range(district_borders.shape[0]):\n",
    "        if i == 0:  # if first border\n",
    "            service_constraints[1:district_borders[i], i+1] = 1\n",
    "        if i == district_borders.shape[0]-1:  # if last border\n",
    "            service_constraints[district_borders[i]:, i+2] = 1\n",
    "        else:\n",
    "            service_constraints[district_borders[i]:district_borders[i+1], i+2] = 1\n",
    "    cost_at_arrival_constraints = np.random.choice(np.arange(420, 1440), size*2).reshape(size, 2)\n",
    "    cost_at_arrival_constraints.sort(axis=1)\n",
    "    return ActivityChainProblem(tsp_graph, service_constraints, cost_at_arrival_constraints)"
   ]
  },
  {
   "cell_type": "code",
   "execution_count": 8,
   "metadata": {},
   "outputs": [
    {
     "name": "stdout",
     "output_type": "stream",
     "text": [
      "Solving for 4 services in 4 cities:\n",
      "Solved Level 1:                   3 partial solutions,                   minimum cost: 422.0\n",
      "Solved Level 2:                   6 partial solutions,                   minimum cost: 423.0\n",
      "Solved Level 3:                   3 partial solutions,                   minimum cost: 426.0\n",
      "\n",
      "Found at least 2 optimal path(s) at cost 430.0\n",
      "\t>> [0 3 1 2 0]\n",
      "\t>> [0 2 1 3 0]\n",
      "CPU times: user 4 ms, sys: 4 ms, total: 8 ms\n",
      "Wall time: 3.45 ms\n"
     ]
    }
   ],
   "source": [
    "# Simple example\n",
    "aco = generate_dummy_01()\n",
    "%time test(aco)"
   ]
  },
  {
   "cell_type": "code",
   "execution_count": 9,
   "metadata": {},
   "outputs": [
    {
     "name": "stdout",
     "output_type": "stream",
     "text": [
      "Solving for 14 services in 14 cities:\n",
      "Solved Level 1:                   13 partial solutions,                   minimum cost: 420.05725388303716\n",
      "Solved Level 2:                   156 partial solutions,                   minimum cost: 420.1577887958203\n",
      "Solved Level 3:                   858 partial solutions,                   minimum cost: 420.2691234215694\n",
      "Solved Level 4:                   2860 partial solutions,                   minimum cost: 420.37403228546856\n",
      "Solved Level 5:                   6435 partial solutions,                   minimum cost: 420.3989934415554\n",
      "Solved Level 6:                   10296 partial solutions,                   minimum cost: 420.5103280673045\n",
      "Solved Level 7:                   12012 partial solutions,                   minimum cost: 420.6032265551737\n",
      "Solved Level 8:                   10296 partial solutions,                   minimum cost: 420.7239839399725\n",
      "Solved Level 9:                   6435 partial solutions,                   minimum cost: 420.8462901679587\n",
      "Solved Level 10:                   2860 partial solutions,                   minimum cost: 421.00437609728334\n",
      "Solved Level 11:                   858 partial solutions,                   minimum cost: 421.19411610328376\n",
      "Solved Level 12:                   156 partial solutions,                   minimum cost: 421.4393050691685\n",
      "Solved Level 13:                   13 partial solutions,                   minimum cost: 421.7792813750665\n",
      "\n",
      "Found at least 1 optimal path(s) at cost 421.90413367135466\n",
      "\t>> [ 0  2 12 10 11  9  6  1 13  7  5  4  8  3  0]\n",
      "CPU times: user 4.19 s, sys: 60 ms, total: 4.25 s\n",
      "Wall time: 4.24 s\n"
     ]
    }
   ],
   "source": [
    "# Standard TSP without temporal or spatial flexibility\n",
    "aco = generate_dummy_02(14)\n",
    "%time test(aco)"
   ]
  },
  {
   "cell_type": "code",
   "execution_count": 10,
   "metadata": {},
   "outputs": [
    {
     "name": "stdout",
     "output_type": "stream",
     "text": [
      "Solving for 8 services in 1000 cities:\n",
      "Solved Level 1:                   999 partial solutions,                   minimum cost: 420.00138407019364\n",
      "Solved Level 2:                   5994 partial solutions,                   minimum cost: 420.0013977996027\n",
      "Solved Level 3:                   14985 partial solutions,                   minimum cost: 420.0014057488699\n",
      "Solved Level 4:                   19980 partial solutions,                   minimum cost: 420.00354472188616\n",
      "Solved Level 5:                   14985 partial solutions,                   minimum cost: 420.0039884750094\n",
      "Solved Level 6:                   5994 partial solutions,                   minimum cost: 420.0057612578913\n",
      "Solved Level 7:                   999 partial solutions,                   minimum cost: 420.01055551118134\n",
      "\n",
      "Found at least 1 optimal path(s) at cost 420.0383303690083\n",
      "\t>> [  0  63 122 634 772 332 491 509   0]\n",
      "CPU times: user 9.36 s, sys: 2.35 s, total: 11.7 s\n",
      "Wall time: 3.04 s\n"
     ]
    }
   ],
   "source": [
    "# Many locations but few activities - no time windows\n",
    "aco = generate_dummy_03(1000, 7)\n",
    "%time test(aco)"
   ]
  },
  {
   "cell_type": "code",
   "execution_count": 11,
   "metadata": {},
   "outputs": [
    {
     "name": "stdout",
     "output_type": "stream",
     "text": [
      "Solving for 8 services in 1000 cities:\n",
      "Solved Level 1:                   999 partial solutions,                   minimum cost: 420.1616618056445\n",
      "Solved Level 2:                   5994 partial solutions,                   minimum cost: 420.3162779813438\n",
      "Solved Level 3:                   14985 partial solutions,                   minimum cost: 420.7788455852091\n",
      "Solved Level 4:                   19980 partial solutions,                   minimum cost: 421.1340667130452\n",
      "Solved Level 5:                   14985 partial solutions,                   minimum cost: 424.0\n",
      "Solved Level 6:                   5994 partial solutions,                   minimum cost: 428.0\n",
      "Solved Level 7:                   999 partial solutions,                   minimum cost: 429.0\n",
      "\n",
      "Found at least 1 optimal path(s) at cost 429.00825617452017\n",
      "\t>> [  0 786 415 354 326 732  95 960   0]\n",
      "CPU times: user 10.8 s, sys: 2.33 s, total: 13.1 s\n",
      "Wall time: 3.33 s\n"
     ]
    }
   ],
   "source": [
    "# Many locations but few activities - with time windows\n",
    "aco = generate_dummy_04(1000, 7)\n",
    "%time test(aco)"
   ]
  }
 ],
 "metadata": {
  "kernelspec": {
   "display_name": "Python 3",
   "language": "python",
   "name": "python3"
  },
  "language_info": {
   "codemirror_mode": {
    "name": "ipython",
    "version": 3
   },
   "file_extension": ".py",
   "mimetype": "text/x-python",
   "name": "python",
   "nbconvert_exporter": "python",
   "pygments_lexer": "ipython3",
   "version": "3.6.5"
  }
 },
 "nbformat": 4,
 "nbformat_minor": 2
}
