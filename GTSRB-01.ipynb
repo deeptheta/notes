{
 "cells": [
  {
   "cell_type": "code",
   "execution_count": 20,
   "metadata": {},
   "outputs": [],
   "source": [
    "import os\n",
    "import numpy as np\n",
    "import pandas as pd\n",
    "import tensorflow as tf\n",
    "from tensorflow.keras.preprocessing.image import ImageDataGenerator\n",
    "from tensorflow.keras.optimizers import RMSprop\n",
    "from tensorflow.keras.preprocessing import image"
   ]
  },
  {
   "cell_type": "code",
   "execution_count": 40,
   "metadata": {},
   "outputs": [],
   "source": [
    "IMG_SIZE = (40, 40)\n",
    "IMG_SHAPE = (40, 40, 3)\n",
    "NOF_CLASSES = 43\n",
    "\n",
    "TRAIN_SET_PATH = '/home/viktor/workspace/00_datasets/GTSRB_40x40/training_set_40x40'\n",
    "TRAIN_SET_SIZE = 39209\n",
    "BATCH_SIZE = 128\n",
    "TRAIN_STEPS = TRAIN_SET_SIZE // BATCH_SIZE\n",
    "\n",
    "VALID_SET_PATH = '/home/viktor/workspace/00_datasets/GTSRB_40x40/test_set_40x40'\n",
    "VALID_SET_SIZE = 12630\n",
    "VALID_BATCH_SIZE = 64\n",
    "VALID_STEPS = VALID_SET_SIZE // VALID_BATCH_SIZE"
   ]
  },
  {
   "cell_type": "code",
   "execution_count": 44,
   "metadata": {},
   "outputs": [
    {
     "name": "stdout",
     "output_type": "stream",
     "text": [
      "Found 39209 images belonging to 43 classes.\n",
      "Found 12630 images belonging to 43 classes.\n"
     ]
    }
   ],
   "source": [
    "# Flow training images in batches of 128 using train_datagen generator\n",
    "train_generator = ImageDataGenerator(rescale=1./255).flow_from_directory(\n",
    "        TRAIN_SET_PATH,\n",
    "        target_size=IMG_SIZE,\n",
    "        batch_size=BATCH_SIZE,\n",
    "        class_mode='sparse')\n",
    "\n",
    "valid_generator = ImageDataGenerator(rescale=1./255).flow_from_directory(\n",
    "        VALID_SET_PATH,\n",
    "        target_size=IMG_SIZE,\n",
    "        batch_size=VALID_BATCH_SIZE,\n",
    "        class_mode='sparse')"
   ]
  },
  {
   "cell_type": "code",
   "execution_count": 46,
   "metadata": {},
   "outputs": [
    {
     "name": "stdout",
     "output_type": "stream",
     "text": [
      "_________________________________________________________________\n",
      "Layer (type)                 Output Shape              Param #   \n",
      "=================================================================\n",
      "flatten_2 (Flatten)          (None, 4800)              0         \n",
      "_________________________________________________________________\n",
      "dense_4 (Dense)              (None, 512)               2458112   \n",
      "_________________________________________________________________\n",
      "dense_5 (Dense)              (None, 43)                22059     \n",
      "=================================================================\n",
      "Total params: 2,480,171\n",
      "Trainable params: 2,480,171\n",
      "Non-trainable params: 0\n",
      "_________________________________________________________________\n"
     ]
    }
   ],
   "source": [
    "model = tf.keras.models.Sequential([\n",
    "    # Note the input shape is the desired size of the image 300x300 with 3 bytes color\n",
    "#     # This is the first convolution\n",
    "#     tf.keras.layers.Conv2D(16, (3,3), activation='relu', input_shape=IMG_SHAPE),\n",
    "#     tf.keras.layers.MaxPooling2D(2, 2),\n",
    "#     # The second convolution\n",
    "#     tf.keras.layers.Conv2D(32, (3,3), activation='relu'),\n",
    "#     tf.keras.layers.MaxPooling2D(2,2),\n",
    "#     # The third convolution\n",
    "#     tf.keras.layers.Conv2D(64, (3,3), activation='relu'),\n",
    "#     tf.keras.layers.MaxPooling2D(2,2),\n",
    "    # Flatten the results to feed into a DNN\n",
    "    tf.keras.layers.Flatten(input_shape=IMG_SHAPE),\n",
    "    # 512 neuron hidden layer\n",
    "    tf.keras.layers.Dense(512, activation='relu'),\n",
    "    tf.keras.layers.Dense(NOF_CLASSES, activation='softmax')\n",
    "])\n",
    "\n",
    "model.summary()"
   ]
  },
  {
   "cell_type": "code",
   "execution_count": 47,
   "metadata": {},
   "outputs": [],
   "source": [
    "model.compile(loss='sparse_categorical_crossentropy',\n",
    "              optimizer=RMSprop(lr=0.001),\n",
    "              metrics=['acc'])"
   ]
  },
  {
   "cell_type": "code",
   "execution_count": 48,
   "metadata": {
    "scrolled": false
   },
   "outputs": [
    {
     "name": "stdout",
     "output_type": "stream",
     "text": [
      "Epoch 1/15\n",
      " - 6s - loss: 2.9544 - acc: 0.3286 - val_loss: 1.9789 - val_acc: 0.4817\n",
      "Epoch 2/15\n",
      " - 6s - loss: 1.4296 - acc: 0.6252 - val_loss: 1.4569 - val_acc: 0.6350\n",
      "Epoch 3/15\n",
      " - 6s - loss: 0.9905 - acc: 0.7377 - val_loss: 1.4410 - val_acc: 0.6507\n",
      "Epoch 4/15\n",
      " - 6s - loss: 0.7708 - acc: 0.7984 - val_loss: 1.0756 - val_acc: 0.7157\n",
      "Epoch 5/15\n",
      " - 6s - loss: 0.6487 - acc: 0.8296 - val_loss: 1.8867 - val_acc: 0.5987\n",
      "Epoch 6/15\n",
      " - 6s - loss: 0.5584 - acc: 0.8552 - val_loss: 0.9187 - val_acc: 0.7877\n",
      "Epoch 7/15\n",
      " - 6s - loss: 0.4919 - acc: 0.8701 - val_loss: 1.0188 - val_acc: 0.7688\n",
      "Epoch 8/15\n",
      " - 6s - loss: 0.4469 - acc: 0.8816 - val_loss: 0.8143 - val_acc: 0.8160\n",
      "Epoch 9/15\n",
      " - 6s - loss: 0.4054 - acc: 0.8947 - val_loss: 0.8628 - val_acc: 0.8108\n",
      "Epoch 10/15\n",
      " - 6s - loss: 0.3781 - acc: 0.9025 - val_loss: 1.4429 - val_acc: 0.7178\n",
      "Epoch 11/15\n",
      " - 6s - loss: 0.3615 - acc: 0.9077 - val_loss: 0.8750 - val_acc: 0.8233\n",
      "Epoch 12/15\n",
      " - 6s - loss: 0.3277 - acc: 0.9136 - val_loss: 0.8977 - val_acc: 0.8109\n",
      "Epoch 13/15\n",
      " - 6s - loss: 0.3167 - acc: 0.9192 - val_loss: 0.8753 - val_acc: 0.8251\n",
      "Epoch 14/15\n",
      " - 6s - loss: 0.3002 - acc: 0.9231 - val_loss: 0.8011 - val_acc: 0.8494\n",
      "Epoch 15/15\n",
      " - 6s - loss: 0.2818 - acc: 0.9282 - val_loss: 1.0133 - val_acc: 0.8046\n"
     ]
    }
   ],
   "source": [
    "history = model.fit_generator(\n",
    "      train_generator,\n",
    "      steps_per_epoch=TRAIN_STEPS,  \n",
    "      epochs=15,\n",
    "      verbose=2,\n",
    "      validation_data = valid_generator,\n",
    "      validation_steps=VALID_STEPS)"
   ]
  },
  {
   "cell_type": "code",
   "execution_count": 49,
   "metadata": {},
   "outputs": [
    {
     "ename": "FileNotFoundError",
     "evalue": "[Errno 2] No such file or directory: '/home/viktor/workspace/00_datasets/GTSRB_40x40/test_set_40x40/00035.ppm'",
     "output_type": "error",
     "traceback": [
      "\u001b[0;31m---------------------------------------------------------------------------\u001b[0m",
      "\u001b[0;31mFileNotFoundError\u001b[0m                         Traceback (most recent call last)",
      "\u001b[0;32m<ipython-input-49-ade3a858cbab>\u001b[0m in \u001b[0;36m<module>\u001b[0;34m()\u001b[0m\n\u001b[0;32m----> 1\u001b[0;31m \u001b[0mimg\u001b[0m \u001b[0;34m=\u001b[0m \u001b[0mimage\u001b[0m\u001b[0;34m.\u001b[0m\u001b[0mload_img\u001b[0m\u001b[0;34m(\u001b[0m\u001b[0mTEST_IMG_PATH\u001b[0m\u001b[0;34m,\u001b[0m \u001b[0mtarget_size\u001b[0m\u001b[0;34m=\u001b[0m\u001b[0mIMG_SIZE\u001b[0m\u001b[0;34m)\u001b[0m\u001b[0;34m\u001b[0m\u001b[0m\n\u001b[0m\u001b[1;32m      2\u001b[0m \u001b[0mx\u001b[0m \u001b[0;34m=\u001b[0m \u001b[0mimage\u001b[0m\u001b[0;34m.\u001b[0m\u001b[0mimg_to_array\u001b[0m\u001b[0;34m(\u001b[0m\u001b[0mimg\u001b[0m\u001b[0;34m)\u001b[0m\u001b[0;34m\u001b[0m\u001b[0m\n\u001b[1;32m      3\u001b[0m \u001b[0mx\u001b[0m \u001b[0;34m=\u001b[0m \u001b[0mnp\u001b[0m\u001b[0;34m.\u001b[0m\u001b[0mexpand_dims\u001b[0m\u001b[0;34m(\u001b[0m\u001b[0mx\u001b[0m\u001b[0;34m,\u001b[0m \u001b[0maxis\u001b[0m\u001b[0;34m=\u001b[0m\u001b[0;36m0\u001b[0m\u001b[0;34m)\u001b[0m\u001b[0;34m\u001b[0m\u001b[0m\n\u001b[1;32m      4\u001b[0m \u001b[0;34m\u001b[0m\u001b[0m\n\u001b[1;32m      5\u001b[0m \u001b[0mimages\u001b[0m \u001b[0;34m=\u001b[0m \u001b[0mnp\u001b[0m\u001b[0;34m.\u001b[0m\u001b[0mvstack\u001b[0m\u001b[0;34m(\u001b[0m\u001b[0;34m[\u001b[0m\u001b[0mx\u001b[0m\u001b[0;34m]\u001b[0m\u001b[0;34m)\u001b[0m\u001b[0;34m\u001b[0m\u001b[0m\n",
      "\u001b[0;32m~/programs/anaconda3/lib/python3.6/site-packages/tensorflow/python/keras/preprocessing/image.py\u001b[0m in \u001b[0;36mload_img\u001b[0;34m(path, grayscale, target_size, interpolation)\u001b[0m\n\u001b[1;32m    432\u001b[0m     raise ImportError('Could not import PIL.Image. '\n\u001b[1;32m    433\u001b[0m                       'The use of `array_to_img` requires PIL.')\n\u001b[0;32m--> 434\u001b[0;31m   \u001b[0mimg\u001b[0m \u001b[0;34m=\u001b[0m \u001b[0mpil_image\u001b[0m\u001b[0;34m.\u001b[0m\u001b[0mopen\u001b[0m\u001b[0;34m(\u001b[0m\u001b[0mpath\u001b[0m\u001b[0;34m)\u001b[0m\u001b[0;34m\u001b[0m\u001b[0m\n\u001b[0m\u001b[1;32m    435\u001b[0m   \u001b[0;32mif\u001b[0m \u001b[0mgrayscale\u001b[0m\u001b[0;34m:\u001b[0m\u001b[0;34m\u001b[0m\u001b[0m\n\u001b[1;32m    436\u001b[0m     \u001b[0;32mif\u001b[0m \u001b[0mimg\u001b[0m\u001b[0;34m.\u001b[0m\u001b[0mmode\u001b[0m \u001b[0;34m!=\u001b[0m \u001b[0;34m'L'\u001b[0m\u001b[0;34m:\u001b[0m\u001b[0;34m\u001b[0m\u001b[0m\n",
      "\u001b[0;32m~/programs/anaconda3/lib/python3.6/site-packages/PIL/Image.py\u001b[0m in \u001b[0;36mopen\u001b[0;34m(fp, mode)\u001b[0m\n\u001b[1;32m   2578\u001b[0m \u001b[0;34m\u001b[0m\u001b[0m\n\u001b[1;32m   2579\u001b[0m     \u001b[0;32mif\u001b[0m \u001b[0mfilename\u001b[0m\u001b[0;34m:\u001b[0m\u001b[0;34m\u001b[0m\u001b[0m\n\u001b[0;32m-> 2580\u001b[0;31m         \u001b[0mfp\u001b[0m \u001b[0;34m=\u001b[0m \u001b[0mbuiltins\u001b[0m\u001b[0;34m.\u001b[0m\u001b[0mopen\u001b[0m\u001b[0;34m(\u001b[0m\u001b[0mfilename\u001b[0m\u001b[0;34m,\u001b[0m \u001b[0;34m\"rb\"\u001b[0m\u001b[0;34m)\u001b[0m\u001b[0;34m\u001b[0m\u001b[0m\n\u001b[0m\u001b[1;32m   2581\u001b[0m         \u001b[0mexclusive_fp\u001b[0m \u001b[0;34m=\u001b[0m \u001b[0;32mTrue\u001b[0m\u001b[0;34m\u001b[0m\u001b[0m\n\u001b[1;32m   2582\u001b[0m \u001b[0;34m\u001b[0m\u001b[0m\n",
      "\u001b[0;31mFileNotFoundError\u001b[0m: [Errno 2] No such file or directory: '/home/viktor/workspace/00_datasets/GTSRB_40x40/test_set_40x40/00035.ppm'"
     ]
    }
   ],
   "source": [
    "img = image.load_img(TEST_IMG_PATH, target_size=IMG_SIZE)\n",
    "x = image.img_to_array(img)\n",
    "x = np.expand_dims(x, axis=0)\n",
    "\n",
    "images = np.vstack([x])\n",
    "classes = model.predict(images, batch_size=10)\n",
    "print(np.where(classes[0])[0])"
   ]
  },
  {
   "cell_type": "code",
   "execution_count": 35,
   "metadata": {},
   "outputs": [],
   "source": [
    "from shutil import move\n",
    "df = pd.read_csv('/home/viktor/workspace/00_datasets/GTSRB_40x40/test_set_40x40/GT-final_test.csv', delimiter=';')\n",
    "for index, row in df.iterrows():\n",
    "    src_dir = '/home/viktor/workspace/00_datasets/GTSRB_40x40/test_set_40x40'\n",
    "    src_file = src_dir + '/' + row['Filename']\n",
    "    dst_dir = '/home/viktor/workspace/00_datasets/GTSRB_40x40/test_set_40x40/' + f'{row[\"ClassId\"]:05d}'\n",
    "    dst_file = dst_dir + '/' + row['Filename']\n",
    "    \n",
    "    if not os.path.exists(dst_dir):\n",
    "        os.makedirs(dst_dir)\n",
    "    move(src_file, dst_file)"
   ]
  }
 ],
 "metadata": {
  "kernelspec": {
   "display_name": "Python 3",
   "language": "python",
   "name": "python3"
  },
  "language_info": {
   "codemirror_mode": {
    "name": "ipython",
    "version": 3
   },
   "file_extension": ".py",
   "mimetype": "text/x-python",
   "name": "python",
   "nbconvert_exporter": "python",
   "pygments_lexer": "ipython3",
   "version": "3.6.5"
  }
 },
 "nbformat": 4,
 "nbformat_minor": 2
}
