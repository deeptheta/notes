{
 "cells": [
  {
   "cell_type": "code",
   "execution_count": 1,
   "metadata": {},
   "outputs": [
    {
     "name": "stderr",
     "output_type": "stream",
     "text": [
      "/home/viktor/programs/anaconda3/lib/python3.6/site-packages/h5py/__init__.py:36: FutureWarning: Conversion of the second argument of issubdtype from `float` to `np.floating` is deprecated. In future, it will be treated as `np.float64 == np.dtype(float).type`.\n",
      "  from ._conv import register_converters as _register_converters\n"
     ]
    }
   ],
   "source": [
    "import os\n",
    "import numpy as np\n",
    "import pandas as pd\n",
    "import tensorflow as tf\n",
    "from tensorflow.keras.preprocessing.image import ImageDataGenerator\n",
    "from tensorflow.keras.optimizers import RMSprop\n",
    "from tensorflow.keras.preprocessing import image"
   ]
  },
  {
   "cell_type": "code",
   "execution_count": 2,
   "metadata": {},
   "outputs": [],
   "source": [
    "IMG_SIZE = (40, 40)\n",
    "IMG_SHAPE = (40, 40, 3)\n",
    "NOF_CLASSES = 43\n",
    "\n",
    "TRAIN_SET_PATH = '/home/viktor/workspace/00_datasets/GTSRB_40x40/training_set_40x40'\n",
    "TRAIN_SET_SIZE = 39209\n",
    "BATCH_SIZE = 128\n",
    "TRAIN_STEPS = TRAIN_SET_SIZE // BATCH_SIZE\n",
    "\n",
    "VALID_SET_PATH = '/home/viktor/workspace/00_datasets/GTSRB_40x40/test_set_40x40'\n",
    "VALID_SET_SIZE = 12630\n",
    "VALID_BATCH_SIZE = 64\n",
    "VALID_STEPS = VALID_SET_SIZE // VALID_BATCH_SIZE"
   ]
  },
  {
   "cell_type": "code",
   "execution_count": 3,
   "metadata": {},
   "outputs": [
    {
     "name": "stdout",
     "output_type": "stream",
     "text": [
      "Found 39209 images belonging to 43 classes.\n",
      "Found 12630 images belonging to 43 classes.\n"
     ]
    }
   ],
   "source": [
    "# Flow training images in batches of 128 using train_datagen generator\n",
    "train_generator = ImageDataGenerator(rescale=1./255).flow_from_directory(\n",
    "        TRAIN_SET_PATH,\n",
    "        target_size=IMG_SIZE,\n",
    "        batch_size=BATCH_SIZE,\n",
    "        class_mode='sparse')\n",
    "\n",
    "valid_generator = ImageDataGenerator(rescale=1./255).flow_from_directory(\n",
    "        VALID_SET_PATH,\n",
    "        target_size=IMG_SIZE,\n",
    "        batch_size=VALID_BATCH_SIZE,\n",
    "        class_mode='sparse')"
   ]
  },
  {
   "cell_type": "code",
   "execution_count": 4,
   "metadata": {},
   "outputs": [
    {
     "name": "stdout",
     "output_type": "stream",
     "text": [
      "_________________________________________________________________\n",
      "Layer (type)                 Output Shape              Param #   \n",
      "=================================================================\n",
      "conv2d (Conv2D)              (None, 38, 38, 16)        448       \n",
      "_________________________________________________________________\n",
      "max_pooling2d (MaxPooling2D) (None, 19, 19, 16)        0         \n",
      "_________________________________________________________________\n",
      "conv2d_1 (Conv2D)            (None, 17, 17, 32)        4640      \n",
      "_________________________________________________________________\n",
      "max_pooling2d_1 (MaxPooling2 (None, 8, 8, 32)          0         \n",
      "_________________________________________________________________\n",
      "conv2d_2 (Conv2D)            (None, 6, 6, 64)          18496     \n",
      "_________________________________________________________________\n",
      "max_pooling2d_2 (MaxPooling2 (None, 3, 3, 64)          0         \n",
      "_________________________________________________________________\n",
      "flatten (Flatten)            (None, 576)               0         \n",
      "_________________________________________________________________\n",
      "dense (Dense)                (None, 512)               295424    \n",
      "_________________________________________________________________\n",
      "dense_1 (Dense)              (None, 43)                22059     \n",
      "=================================================================\n",
      "Total params: 341,067\n",
      "Trainable params: 341,067\n",
      "Non-trainable params: 0\n",
      "_________________________________________________________________\n"
     ]
    }
   ],
   "source": [
    "model = tf.keras.models.Sequential([\n",
    "    # Note the input shape is the desired size of the image 300x300 with 3 bytes color\n",
    "    # This is the first convolution\n",
    "    tf.keras.layers.Conv2D(16, (3,3), activation='relu', input_shape=IMG_SHAPE),\n",
    "    tf.keras.layers.MaxPooling2D(2, 2),\n",
    "    # The second convolution\n",
    "    tf.keras.layers.Conv2D(32, (3,3), activation='relu'),\n",
    "    tf.keras.layers.MaxPooling2D(2,2),\n",
    "    # The third convolution\n",
    "    tf.keras.layers.Conv2D(64, (3,3), activation='relu'),\n",
    "    tf.keras.layers.MaxPooling2D(2,2),\n",
    "    # Flatten the results to feed into a DNN\n",
    "    tf.keras.layers.Flatten(input_shape=IMG_SHAPE),\n",
    "    # 512 neuron hidden layer\n",
    "    tf.keras.layers.Dense(512, activation='relu'),\n",
    "    tf.keras.layers.Dense(NOF_CLASSES, activation='softmax')\n",
    "])\n",
    "\n",
    "model.summary()"
   ]
  },
  {
   "cell_type": "code",
   "execution_count": 5,
   "metadata": {},
   "outputs": [],
   "source": [
    "model.compile(loss='sparse_categorical_crossentropy',\n",
    "              optimizer=RMSprop(lr=0.001),\n",
    "              metrics=['acc'])"
   ]
  },
  {
   "cell_type": "code",
   "execution_count": 6,
   "metadata": {
    "scrolled": false
   },
   "outputs": [
    {
     "name": "stdout",
     "output_type": "stream",
     "text": [
      "Epoch 1/15\n",
      " - 14s - loss: 1.5723 - acc: 0.5646 - val_loss: 0.8091 - val_acc: 0.7859\n",
      "Epoch 2/15\n",
      " - 6s - loss: 0.2951 - acc: 0.9166 - val_loss: 0.4347 - val_acc: 0.9020\n",
      "Epoch 3/15\n",
      " - 6s - loss: 0.1075 - acc: 0.9703 - val_loss: 0.4704 - val_acc: 0.8972\n",
      "Epoch 4/15\n",
      " - 6s - loss: 0.0593 - acc: 0.9836 - val_loss: 0.3391 - val_acc: 0.9308\n",
      "Epoch 5/15\n",
      " - 6s - loss: 0.0355 - acc: 0.9905 - val_loss: 0.3424 - val_acc: 0.9338\n",
      "Epoch 6/15\n",
      " - 6s - loss: 0.0239 - acc: 0.9935 - val_loss: 0.3344 - val_acc: 0.9366\n",
      "Epoch 7/15\n",
      " - 6s - loss: 0.0189 - acc: 0.9947 - val_loss: 0.3146 - val_acc: 0.9479\n",
      "Epoch 8/15\n",
      " - 6s - loss: 0.0149 - acc: 0.9958 - val_loss: 0.3492 - val_acc: 0.9442\n",
      "Epoch 9/15\n",
      " - 6s - loss: 0.0109 - acc: 0.9972 - val_loss: 0.3347 - val_acc: 0.9475\n",
      "Epoch 10/15\n",
      " - 6s - loss: 0.0098 - acc: 0.9971 - val_loss: 0.3760 - val_acc: 0.9438\n",
      "Epoch 11/15\n",
      " - 6s - loss: 0.0098 - acc: 0.9977 - val_loss: 0.4346 - val_acc: 0.9400\n",
      "Epoch 12/15\n",
      " - 6s - loss: 0.0083 - acc: 0.9979 - val_loss: 0.3602 - val_acc: 0.9507\n",
      "Epoch 13/15\n",
      " - 6s - loss: 0.0078 - acc: 0.9981 - val_loss: 0.5796 - val_acc: 0.9275\n",
      "Epoch 14/15\n",
      " - 6s - loss: 0.0097 - acc: 0.9980 - val_loss: 0.3456 - val_acc: 0.9517\n",
      "Epoch 15/15\n",
      " - 6s - loss: 0.0093 - acc: 0.9981 - val_loss: 0.3839 - val_acc: 0.9501\n"
     ]
    }
   ],
   "source": [
    "history = model.fit_generator(\n",
    "      train_generator,\n",
    "      steps_per_epoch=TRAIN_STEPS,  \n",
    "      epochs=15,\n",
    "      verbose=2,\n",
    "      validation_data = valid_generator,\n",
    "      validation_steps=VALID_STEPS)"
   ]
  },
  {
   "cell_type": "code",
   "execution_count": 7,
   "metadata": {},
   "outputs": [
    {
     "name": "stdout",
     "output_type": "stream",
     "text": [
      "[17]\n"
     ]
    }
   ],
   "source": [
    "img = image.load_img('/home/viktor/workspace/00_datasets/GTSRB_40x40/test_set_40x40/00017/00031.ppm',\n",
    "                     target_size=IMG_SIZE)\n",
    "x = image.img_to_array(img)\n",
    "x = np.expand_dims(x, axis=0)\n",
    "\n",
    "images = np.vstack([x])\n",
    "classes = model.predict(images, batch_size=10)\n",
    "print(np.where(classes[0])[0])"
   ]
  },
  {
   "cell_type": "code",
   "execution_count": 8,
   "metadata": {},
   "outputs": [],
   "source": [
    "# Save entire model to a HDF5 file\n",
    "model.save('gtsrb_01_model.h5')"
   ]
  },
  {
   "cell_type": "code",
   "execution_count": 35,
   "metadata": {},
   "outputs": [],
   "source": [
    "from shutil import move\n",
    "df = pd.read_csv('/home/viktor/workspace/00_datasets/GTSRB_40x40/test_set_40x40/GT-final_test.csv', delimiter=';')\n",
    "for index, row in df.iterrows():\n",
    "    src_dir = '/home/viktor/workspace/00_datasets/GTSRB_40x40/test_set_40x40'\n",
    "    src_file = src_dir + '/' + row['Filename']\n",
    "    dst_dir = '/home/viktor/workspace/00_datasets/GTSRB_40x40/test_set_40x40/' + f'{row[\"ClassId\"]:05d}'\n",
    "    dst_file = dst_dir + '/' + row['Filename']\n",
    "    \n",
    "    if not os.path.exists(dst_dir):\n",
    "        os.makedirs(dst_dir)\n",
    "    move(src_file, dst_file)"
   ]
  }
 ],
 "metadata": {
  "kernelspec": {
   "display_name": "Python 3",
   "language": "python",
   "name": "python3"
  },
  "language_info": {
   "codemirror_mode": {
    "name": "ipython",
    "version": 3
   },
   "file_extension": ".py",
   "mimetype": "text/x-python",
   "name": "python",
   "nbconvert_exporter": "python",
   "pygments_lexer": "ipython3",
   "version": "3.6.5"
  }
 },
 "nbformat": 4,
 "nbformat_minor": 2
}
